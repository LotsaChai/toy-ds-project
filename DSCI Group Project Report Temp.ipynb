{
 "cells": [
  {
   "cell_type": "markdown",
   "id": "521fad66-8d3d-4981-a505-9bfc30f9688a",
   "metadata": {},
   "source": [
    "# Predicting Speed Dating Success Using Various Personality Traits"
   ]
  },
  {
   "cell_type": "markdown",
   "id": "543ca6df-f0e5-4e0e-b63e-188ed4c282ba",
   "metadata": {},
   "source": [
    "## Introduction\n",
    "\n"
   ]
  },
  {
   "cell_type": "markdown",
   "id": "ebf83caf-37f9-4b73-9ad8-5f401f9e960d",
   "metadata": {},
   "source": [
    "Speed dating is an excellent method for determining someone's level of attraction and compatibility without wasting too much time. In a little period of time (approximately 3 to 8 minutes per person), it enables people to meet a large number of possible companions. Its main objective is to make it simpler for people to locate their ideal match.\n",
    "\n",
    "In this study, we want to examine the factors that affect how likely it is that two people attending a speed dating event will click. We're interested in learning which qualities, such physical attractiveness, wit, and common interests, are most crucial for creating a connection between two people.\n",
    "We're looking at data from a speed dating study that Columbia University researchers did between 2002 and 2004 to provide light on this subject.Over 500 people who participated in speed dating events are profiled in the dataset. These people responded to surveys about themselves and their partners before and after each encounter. Age, interests, hobbies, and other topics were covered. Participants also had the chance to say if they would like to see each of their speed dating partners again after the event (we will refer to this as a \"match\" for the remainder of this analysis). With the help of this data, we can assess the variables that affect the chances that two people will match. \n",
    "\n"
   ]
  },
  {
   "cell_type": "markdown",
   "id": "a6343fcb-ceda-48cc-98ec-f31b8c78a0de",
   "metadata": {
    "tags": []
   },
   "source": [
    "## Methods and Results\n",
    "\n",
    "In this analysis, we will be using a K-Nearest Neighbours Classification model to determine whether an individual will match or not, based on traits like their attractiveness, funniness, and their shared interests with their partner. The point of this study is to determine whether there is a correlation between these traits and matching with a partner. "
   ]
  },
  {
   "cell_type": "markdown",
   "id": "b15a9cf2-ac77-40f8-9d13-945cef69e1bc",
   "metadata": {},
   "source": [
    "#### 1. Importing Libraries\n",
    "\n",
    "We begin by installing and importing the libraries required to properly read, analyze, and visualize the data."
   ]
  },
  {
   "cell_type": "code",
   "execution_count": 1,
   "id": "1c5d422e-7bf5-45d5-98dc-fd6cd1892f24",
   "metadata": {},
   "outputs": [],
   "source": [
    "# Install packages\n",
    "# install.packages('tidyverse')\n",
    "# install.packages('tidymodels')\n",
    "# install.packages('themis')\n",
    "# install.packages('repr')\n",
    "# install.packages('gridExtra')\n",
    "# install.packages('grid')\n",
    "# install.packages('kknn')\n",
    "# install.packages('GGally')"
   ]
  },
  {
   "cell_type": "code",
   "execution_count": 2,
   "id": "bb963640-7206-488e-9857-f109faaae43d",
   "metadata": {},
   "outputs": [
    {
     "name": "stderr",
     "output_type": "stream",
     "text": [
      "── \u001b[1mAttaching packages\u001b[22m ─────────────────────────────────────── tidyverse 1.3.1 ──\n",
      "\n",
      "\u001b[32m✔\u001b[39m \u001b[34mggplot2\u001b[39m 3.3.6     \u001b[32m✔\u001b[39m \u001b[34mpurrr  \u001b[39m 0.3.4\n",
      "\u001b[32m✔\u001b[39m \u001b[34mtibble \u001b[39m 3.2.1     \u001b[32m✔\u001b[39m \u001b[34mdplyr  \u001b[39m 1.1.1\n",
      "\u001b[32m✔\u001b[39m \u001b[34mtidyr  \u001b[39m 1.2.0     \u001b[32m✔\u001b[39m \u001b[34mstringr\u001b[39m 1.4.0\n",
      "\u001b[32m✔\u001b[39m \u001b[34mreadr  \u001b[39m 2.1.2     \u001b[32m✔\u001b[39m \u001b[34mforcats\u001b[39m 0.5.1\n",
      "\n",
      "Warning message:\n",
      "“package ‘ggplot2’ was built under R version 4.1.3”\n",
      "Warning message:\n",
      "“package ‘tidyr’ was built under R version 4.1.2”\n",
      "Warning message:\n",
      "“package ‘readr’ was built under R version 4.1.2”\n",
      "── \u001b[1mConflicts\u001b[22m ────────────────────────────────────────── tidyverse_conflicts() ──\n",
      "\u001b[31m✖\u001b[39m \u001b[34mdplyr\u001b[39m::\u001b[32mfilter()\u001b[39m masks \u001b[34mstats\u001b[39m::filter()\n",
      "\u001b[31m✖\u001b[39m \u001b[34mdplyr\u001b[39m::\u001b[32mlag()\u001b[39m    masks \u001b[34mstats\u001b[39m::lag()\n",
      "\n",
      "── \u001b[1mAttaching packages\u001b[22m ────────────────────────────────────── tidymodels 1.0.0 ──\n",
      "\n",
      "\u001b[32m✔\u001b[39m \u001b[34mbroom       \u001b[39m 1.0.0     \u001b[32m✔\u001b[39m \u001b[34mrsample     \u001b[39m 1.0.0\n",
      "\u001b[32m✔\u001b[39m \u001b[34mdials       \u001b[39m 1.0.0     \u001b[32m✔\u001b[39m \u001b[34mtune        \u001b[39m 1.0.0\n",
      "\u001b[32m✔\u001b[39m \u001b[34minfer       \u001b[39m 1.0.2     \u001b[32m✔\u001b[39m \u001b[34mworkflows   \u001b[39m 1.0.0\n",
      "\u001b[32m✔\u001b[39m \u001b[34mmodeldata   \u001b[39m 1.0.0     \u001b[32m✔\u001b[39m \u001b[34mworkflowsets\u001b[39m 1.0.0\n",
      "\u001b[32m✔\u001b[39m \u001b[34mparsnip     \u001b[39m 1.0.0     \u001b[32m✔\u001b[39m \u001b[34myardstick   \u001b[39m 1.0.0\n",
      "\u001b[32m✔\u001b[39m \u001b[34mrecipes     \u001b[39m 1.0.5     \n",
      "\n",
      "Warning message:\n",
      "“package ‘broom’ was built under R version 4.1.3”\n",
      "Warning message:\n",
      "“package ‘dials’ was built under R version 4.1.3”\n",
      "Warning message:\n",
      "“package ‘scales’ was built under R version 4.1.3”\n",
      "Warning message:\n",
      "“package ‘infer’ was built under R version 4.1.3”\n",
      "Warning message:\n",
      "“package ‘modeldata’ was built under R version 4.1.3”\n",
      "Warning message:\n",
      "“package ‘parsnip’ was built under R version 4.1.3”\n",
      "Warning message:\n",
      "“package ‘rsample’ was built under R version 4.1.3”\n",
      "Warning message:\n",
      "“package ‘tune’ was built under R version 4.1.3”\n",
      "Warning message:\n",
      "“package ‘workflows’ was built under R version 4.1.3”\n",
      "Warning message:\n",
      "“package ‘workflowsets’ was built under R version 4.1.3”\n",
      "Warning message:\n",
      "“package ‘yardstick’ was built under R version 4.1.3”\n",
      "── \u001b[1mConflicts\u001b[22m ───────────────────────────────────────── tidymodels_conflicts() ──\n",
      "\u001b[31m✖\u001b[39m \u001b[34mscales\u001b[39m::\u001b[32mdiscard()\u001b[39m masks \u001b[34mpurrr\u001b[39m::discard()\n",
      "\u001b[31m✖\u001b[39m \u001b[34mdplyr\u001b[39m::\u001b[32mfilter()\u001b[39m   masks \u001b[34mstats\u001b[39m::filter()\n",
      "\u001b[31m✖\u001b[39m \u001b[34mrecipes\u001b[39m::\u001b[32mfixed()\u001b[39m  masks \u001b[34mstringr\u001b[39m::fixed()\n",
      "\u001b[31m✖\u001b[39m \u001b[34mdplyr\u001b[39m::\u001b[32mlag()\u001b[39m      masks \u001b[34mstats\u001b[39m::lag()\n",
      "\u001b[31m✖\u001b[39m \u001b[34myardstick\u001b[39m::\u001b[32mspec()\u001b[39m masks \u001b[34mreadr\u001b[39m::spec()\n",
      "\u001b[31m✖\u001b[39m \u001b[34mrecipes\u001b[39m::\u001b[32mstep()\u001b[39m   masks \u001b[34mstats\u001b[39m::step()\n",
      "\u001b[34m•\u001b[39m Use suppressPackageStartupMessages() to eliminate package startup messages\n",
      "\n",
      "\n",
      "Attaching package: ‘gridExtra’\n",
      "\n",
      "\n",
      "The following object is masked from ‘package:dplyr’:\n",
      "\n",
      "    combine\n",
      "\n",
      "\n",
      "Registered S3 method overwritten by 'GGally':\n",
      "  method from   \n",
      "  +.gg   ggplot2\n",
      "\n"
     ]
    }
   ],
   "source": [
    "# Importing libraries\n",
    "library(tidyverse)\n",
    "library(tidymodels)\n",
    "library(themis)\n",
    "library(repr)\n",
    "library(gridExtra)\n",
    "library(grid)\n",
    "library(GGally)\n",
    "library(kknn)"
   ]
  },
  {
   "cell_type": "markdown",
   "id": "d774385b-6f2c-4a8e-8435-caf5ef5f8e9d",
   "metadata": {},
   "source": [
    "#### 2. Reading the Data\n",
    "\n",
    "[link]: http://www.stat.columbia.edu/~gelman/arm/examples/speed.dating/\n",
    "\n",
    "Using the **read_csv()** function, we read the data from the [Teacher's College Columbia University database][link], and store it in a variable. We will then perform a short analysis on the data, getting information about the number of columns, rows, as well as a preview of what each observation looks like. "
   ]
  },
  {
   "cell_type": "code",
   "execution_count": 3,
   "id": "769424c1-15ba-4351-a9a2-f6ce88eb8f5c",
   "metadata": {},
   "outputs": [
    {
     "name": "stderr",
     "output_type": "stream",
     "text": [
      "\u001b[1mRows: \u001b[22m\u001b[34m8378\u001b[39m \u001b[1mColumns: \u001b[22m\u001b[34m195\u001b[39m\n",
      "\u001b[36m──\u001b[39m \u001b[1mColumn specification\u001b[22m \u001b[36m────────────────────────────────────────────────────────\u001b[39m\n",
      "\u001b[1mDelimiter:\u001b[22m \",\"\n",
      "\u001b[31mchr\u001b[39m   (4): field, undergra, from, career\n",
      "\u001b[32mdbl\u001b[39m (187): iid, id, gender, idg, condtn, wave, round, position, positin1, or...\n",
      "\n",
      "\u001b[36mℹ\u001b[39m Use `spec()` to retrieve the full column specification for this data.\n",
      "\u001b[36mℹ\u001b[39m Specify the column types or set `show_col_types = FALSE` to quiet this message.\n"
     ]
    }
   ],
   "source": [
    "# Reading the data\n",
    "speed_dating_data <- read_csv(\"http://www.stat.columbia.edu/~gelman/arm/examples/speed.dating/Speed%20Dating%20Data.csv\")\n",
    "\n",
    "# Number of Rows and Columns\n",
    "num_rows <- nrow(speed_dating_data)\n",
    "num_cols <- ncol(speed_dating_data)\n",
    "\n",
    "speed_dating_summary <- tibble(Rows = num_rows, \n",
    "                  Columns = num_cols)\n",
    "\n",
    "# Previewing the data\n",
    "speed_dating_preview <- head(speed_dating_data)"
   ]
  },
  {
   "cell_type": "code",
   "execution_count": 4,
   "id": "33d39bb5-92b3-4099-9664-defde01c571c",
   "metadata": {},
   "outputs": [
    {
     "data": {
      "text/html": [
       "<table class=\"dataframe\">\n",
       "<caption>A tibble: 1 × 2</caption>\n",
       "<thead>\n",
       "\t<tr><th scope=col>Rows</th><th scope=col>Columns</th></tr>\n",
       "\t<tr><th scope=col>&lt;int&gt;</th><th scope=col>&lt;int&gt;</th></tr>\n",
       "</thead>\n",
       "<tbody>\n",
       "\t<tr><td>8378</td><td>195</td></tr>\n",
       "</tbody>\n",
       "</table>\n"
      ],
      "text/latex": [
       "A tibble: 1 × 2\n",
       "\\begin{tabular}{ll}\n",
       " Rows & Columns\\\\\n",
       " <int> & <int>\\\\\n",
       "\\hline\n",
       "\t 8378 & 195\\\\\n",
       "\\end{tabular}\n"
      ],
      "text/markdown": [
       "\n",
       "A tibble: 1 × 2\n",
       "\n",
       "| Rows &lt;int&gt; | Columns &lt;int&gt; |\n",
       "|---|---|\n",
       "| 8378 | 195 |\n",
       "\n"
      ],
      "text/plain": [
       "  Rows Columns\n",
       "1 8378 195    "
      ]
     },
     "metadata": {},
     "output_type": "display_data"
    }
   ],
   "source": [
    "speed_dating_summary"
   ]
  },
  {
   "cell_type": "markdown",
   "id": "7da2fd38-c9eb-4ab8-b6a9-cfab7c46b9e8",
   "metadata": {},
   "source": [
    "> **Table 1.0: Number of Rows and Columns in the Dataset** <br />\n",
    "> There are 8378 observations in the dataset, and 195 variables."
   ]
  },
  {
   "cell_type": "code",
   "execution_count": 5,
   "id": "754b5250-5fe3-4e47-abe3-3e8510d9e9c6",
   "metadata": {},
   "outputs": [
    {
     "data": {
      "text/html": [
       "<table class=\"dataframe\">\n",
       "<caption>A tibble: 6 × 195</caption>\n",
       "<thead>\n",
       "\t<tr><th scope=col>iid</th><th scope=col>id</th><th scope=col>gender</th><th scope=col>idg</th><th scope=col>condtn</th><th scope=col>wave</th><th scope=col>round</th><th scope=col>position</th><th scope=col>positin1</th><th scope=col>order</th><th scope=col>⋯</th><th scope=col>attr3_3</th><th scope=col>sinc3_3</th><th scope=col>intel3_3</th><th scope=col>fun3_3</th><th scope=col>amb3_3</th><th scope=col>attr5_3</th><th scope=col>sinc5_3</th><th scope=col>intel5_3</th><th scope=col>fun5_3</th><th scope=col>amb5_3</th></tr>\n",
       "\t<tr><th scope=col>&lt;dbl&gt;</th><th scope=col>&lt;dbl&gt;</th><th scope=col>&lt;dbl&gt;</th><th scope=col>&lt;dbl&gt;</th><th scope=col>&lt;dbl&gt;</th><th scope=col>&lt;dbl&gt;</th><th scope=col>&lt;dbl&gt;</th><th scope=col>&lt;dbl&gt;</th><th scope=col>&lt;dbl&gt;</th><th scope=col>&lt;dbl&gt;</th><th scope=col>⋯</th><th scope=col>&lt;dbl&gt;</th><th scope=col>&lt;dbl&gt;</th><th scope=col>&lt;dbl&gt;</th><th scope=col>&lt;dbl&gt;</th><th scope=col>&lt;dbl&gt;</th><th scope=col>&lt;dbl&gt;</th><th scope=col>&lt;dbl&gt;</th><th scope=col>&lt;dbl&gt;</th><th scope=col>&lt;dbl&gt;</th><th scope=col>&lt;dbl&gt;</th></tr>\n",
       "</thead>\n",
       "<tbody>\n",
       "\t<tr><td>1</td><td>1</td><td>0</td><td>1</td><td>1</td><td>1</td><td>10</td><td>7</td><td>NA</td><td> 4</td><td>⋯</td><td>5</td><td>7</td><td>7</td><td>7</td><td>7</td><td>NA</td><td>NA</td><td>NA</td><td>NA</td><td>NA</td></tr>\n",
       "\t<tr><td>1</td><td>1</td><td>0</td><td>1</td><td>1</td><td>1</td><td>10</td><td>7</td><td>NA</td><td> 3</td><td>⋯</td><td>5</td><td>7</td><td>7</td><td>7</td><td>7</td><td>NA</td><td>NA</td><td>NA</td><td>NA</td><td>NA</td></tr>\n",
       "\t<tr><td>1</td><td>1</td><td>0</td><td>1</td><td>1</td><td>1</td><td>10</td><td>7</td><td>NA</td><td>10</td><td>⋯</td><td>5</td><td>7</td><td>7</td><td>7</td><td>7</td><td>NA</td><td>NA</td><td>NA</td><td>NA</td><td>NA</td></tr>\n",
       "\t<tr><td>1</td><td>1</td><td>0</td><td>1</td><td>1</td><td>1</td><td>10</td><td>7</td><td>NA</td><td> 5</td><td>⋯</td><td>5</td><td>7</td><td>7</td><td>7</td><td>7</td><td>NA</td><td>NA</td><td>NA</td><td>NA</td><td>NA</td></tr>\n",
       "\t<tr><td>1</td><td>1</td><td>0</td><td>1</td><td>1</td><td>1</td><td>10</td><td>7</td><td>NA</td><td> 7</td><td>⋯</td><td>5</td><td>7</td><td>7</td><td>7</td><td>7</td><td>NA</td><td>NA</td><td>NA</td><td>NA</td><td>NA</td></tr>\n",
       "\t<tr><td>1</td><td>1</td><td>0</td><td>1</td><td>1</td><td>1</td><td>10</td><td>7</td><td>NA</td><td> 6</td><td>⋯</td><td>5</td><td>7</td><td>7</td><td>7</td><td>7</td><td>NA</td><td>NA</td><td>NA</td><td>NA</td><td>NA</td></tr>\n",
       "</tbody>\n",
       "</table>\n"
      ],
      "text/latex": [
       "A tibble: 6 × 195\n",
       "\\begin{tabular}{lllllllllllllllllllll}\n",
       " iid & id & gender & idg & condtn & wave & round & position & positin1 & order & ⋯ & attr3\\_3 & sinc3\\_3 & intel3\\_3 & fun3\\_3 & amb3\\_3 & attr5\\_3 & sinc5\\_3 & intel5\\_3 & fun5\\_3 & amb5\\_3\\\\\n",
       " <dbl> & <dbl> & <dbl> & <dbl> & <dbl> & <dbl> & <dbl> & <dbl> & <dbl> & <dbl> & ⋯ & <dbl> & <dbl> & <dbl> & <dbl> & <dbl> & <dbl> & <dbl> & <dbl> & <dbl> & <dbl>\\\\\n",
       "\\hline\n",
       "\t 1 & 1 & 0 & 1 & 1 & 1 & 10 & 7 & NA &  4 & ⋯ & 5 & 7 & 7 & 7 & 7 & NA & NA & NA & NA & NA\\\\\n",
       "\t 1 & 1 & 0 & 1 & 1 & 1 & 10 & 7 & NA &  3 & ⋯ & 5 & 7 & 7 & 7 & 7 & NA & NA & NA & NA & NA\\\\\n",
       "\t 1 & 1 & 0 & 1 & 1 & 1 & 10 & 7 & NA & 10 & ⋯ & 5 & 7 & 7 & 7 & 7 & NA & NA & NA & NA & NA\\\\\n",
       "\t 1 & 1 & 0 & 1 & 1 & 1 & 10 & 7 & NA &  5 & ⋯ & 5 & 7 & 7 & 7 & 7 & NA & NA & NA & NA & NA\\\\\n",
       "\t 1 & 1 & 0 & 1 & 1 & 1 & 10 & 7 & NA &  7 & ⋯ & 5 & 7 & 7 & 7 & 7 & NA & NA & NA & NA & NA\\\\\n",
       "\t 1 & 1 & 0 & 1 & 1 & 1 & 10 & 7 & NA &  6 & ⋯ & 5 & 7 & 7 & 7 & 7 & NA & NA & NA & NA & NA\\\\\n",
       "\\end{tabular}\n"
      ],
      "text/markdown": [
       "\n",
       "A tibble: 6 × 195\n",
       "\n",
       "| iid &lt;dbl&gt; | id &lt;dbl&gt; | gender &lt;dbl&gt; | idg &lt;dbl&gt; | condtn &lt;dbl&gt; | wave &lt;dbl&gt; | round &lt;dbl&gt; | position &lt;dbl&gt; | positin1 &lt;dbl&gt; | order &lt;dbl&gt; | ⋯ ⋯ | attr3_3 &lt;dbl&gt; | sinc3_3 &lt;dbl&gt; | intel3_3 &lt;dbl&gt; | fun3_3 &lt;dbl&gt; | amb3_3 &lt;dbl&gt; | attr5_3 &lt;dbl&gt; | sinc5_3 &lt;dbl&gt; | intel5_3 &lt;dbl&gt; | fun5_3 &lt;dbl&gt; | amb5_3 &lt;dbl&gt; |\n",
       "|---|---|---|---|---|---|---|---|---|---|---|---|---|---|---|---|---|---|---|---|---|\n",
       "| 1 | 1 | 0 | 1 | 1 | 1 | 10 | 7 | NA |  4 | ⋯ | 5 | 7 | 7 | 7 | 7 | NA | NA | NA | NA | NA |\n",
       "| 1 | 1 | 0 | 1 | 1 | 1 | 10 | 7 | NA |  3 | ⋯ | 5 | 7 | 7 | 7 | 7 | NA | NA | NA | NA | NA |\n",
       "| 1 | 1 | 0 | 1 | 1 | 1 | 10 | 7 | NA | 10 | ⋯ | 5 | 7 | 7 | 7 | 7 | NA | NA | NA | NA | NA |\n",
       "| 1 | 1 | 0 | 1 | 1 | 1 | 10 | 7 | NA |  5 | ⋯ | 5 | 7 | 7 | 7 | 7 | NA | NA | NA | NA | NA |\n",
       "| 1 | 1 | 0 | 1 | 1 | 1 | 10 | 7 | NA |  7 | ⋯ | 5 | 7 | 7 | 7 | 7 | NA | NA | NA | NA | NA |\n",
       "| 1 | 1 | 0 | 1 | 1 | 1 | 10 | 7 | NA |  6 | ⋯ | 5 | 7 | 7 | 7 | 7 | NA | NA | NA | NA | NA |\n",
       "\n"
      ],
      "text/plain": [
       "  iid id gender idg condtn wave round position positin1 order ⋯ attr3_3 sinc3_3\n",
       "1 1   1  0      1   1      1    10    7        NA        4    ⋯ 5       7      \n",
       "2 1   1  0      1   1      1    10    7        NA        3    ⋯ 5       7      \n",
       "3 1   1  0      1   1      1    10    7        NA       10    ⋯ 5       7      \n",
       "4 1   1  0      1   1      1    10    7        NA        5    ⋯ 5       7      \n",
       "5 1   1  0      1   1      1    10    7        NA        7    ⋯ 5       7      \n",
       "6 1   1  0      1   1      1    10    7        NA        6    ⋯ 5       7      \n",
       "  intel3_3 fun3_3 amb3_3 attr5_3 sinc5_3 intel5_3 fun5_3 amb5_3\n",
       "1 7        7      7      NA      NA      NA       NA     NA    \n",
       "2 7        7      7      NA      NA      NA       NA     NA    \n",
       "3 7        7      7      NA      NA      NA       NA     NA    \n",
       "4 7        7      7      NA      NA      NA       NA     NA    \n",
       "5 7        7      7      NA      NA      NA       NA     NA    \n",
       "6 7        7      7      NA      NA      NA       NA     NA    "
      ]
     },
     "metadata": {},
     "output_type": "display_data"
    }
   ],
   "source": [
    "speed_dating_preview"
   ]
  },
  {
   "cell_type": "markdown",
   "id": "f59964c5-7ba0-465f-8a12-9be90e927edd",
   "metadata": {},
   "source": [
    "> **Table 1.1: Head of the Dataset** <br />\n",
    "> A preview of the speed dating dataset."
   ]
  },
  {
   "cell_type": "markdown",
   "id": "be3484f2-bfba-42e7-917a-da806dc2424e",
   "metadata": {},
   "source": [
    "[link]: http://www.stat.columbia.edu/~gelman/arm/examples/speed.dating/Speed%20Dating%20Data%20Key.doc\n",
    "\n",
    "From the speed dating dataset's [legend][link], we know there are many variables that are not useful in answering our research question, such as the individual's event ID, or the zipcode of where the individual was raised. There are many variables which do not use numerical values as well, such as the individual's career or field of study. Using 195 predictors would also be very computationally expensive, so we narrowed our possible predictors down to 6: attractiveness, sincerity, intelligence, funniness, ambition, and shared interest. We chose these variables because they can be numerically rated and are commonly discussed traits regarding relationships, and therefore would be ideal variables to use to predict whether an individual would match with their partner or not. In **Step 6**, we will further narrow down our predictors, by figuring out which variables have the highest correlation with whether or not the individual matches. "
   ]
  },
  {
   "cell_type": "markdown",
   "id": "dd8a86c7-06d7-4610-9d04-0372629d3269",
   "metadata": {},
   "source": [
    "#### 4. Tidying the Data\n",
    "\n",
    "Our next step was to tidy the data into a state where we could easily use it to create our predictive model. We began by selecting the desired columns, and filtering out improper observations that could create future difficulties (N/A values, values that went by a different scale, etc.)."
   ]
  },
  {
   "cell_type": "code",
   "execution_count": 6,
   "id": "4ceb5742-91bd-4eb2-b9e6-b134c3aa9745",
   "metadata": {},
   "outputs": [
    {
     "name": "stderr",
     "output_type": "stream",
     "text": [
      "Warning message:\n",
      "“\u001b[1m\u001b[22mThere was 1 warning in `filter()`.\n",
      "\u001b[1m\u001b[22m\u001b[36mℹ\u001b[39m In argument: `wave != 6:9`.\n",
      "Caused by warning in `wave != 6:9`:\n",
      "\u001b[33m!\u001b[39m longer object length is not a multiple of shorter object length”\n"
     ]
    },
    {
     "data": {
      "text/html": [
       "<table class=\"dataframe\">\n",
       "<caption>A tibble: 6 × 7</caption>\n",
       "<thead>\n",
       "\t<tr><th scope=col>Match</th><th scope=col>Attractiveness</th><th scope=col>Sincerity</th><th scope=col>Intelligence</th><th scope=col>Funniness</th><th scope=col>Ambition</th><th scope=col>Shared_Interest</th></tr>\n",
       "\t<tr><th scope=col>&lt;fct&gt;</th><th scope=col>&lt;dbl&gt;</th><th scope=col>&lt;dbl&gt;</th><th scope=col>&lt;dbl&gt;</th><th scope=col>&lt;dbl&gt;</th><th scope=col>&lt;dbl&gt;</th><th scope=col>&lt;dbl&gt;</th></tr>\n",
       "</thead>\n",
       "<tbody>\n",
       "\t<tr><td>no </td><td> 6</td><td> 8</td><td> 8</td><td> 8</td><td> 8</td><td> 6</td></tr>\n",
       "\t<tr><td>no </td><td> 7</td><td> 8</td><td>10</td><td> 7</td><td> 7</td><td> 5</td></tr>\n",
       "\t<tr><td>yes</td><td>10</td><td>10</td><td>10</td><td>10</td><td>10</td><td>10</td></tr>\n",
       "\t<tr><td>yes</td><td> 7</td><td> 8</td><td> 9</td><td> 8</td><td> 9</td><td> 8</td></tr>\n",
       "\t<tr><td>yes</td><td> 8</td><td> 7</td><td> 9</td><td> 6</td><td> 9</td><td> 7</td></tr>\n",
       "\t<tr><td>no </td><td> 7</td><td> 7</td><td> 8</td><td> 8</td><td> 7</td><td> 7</td></tr>\n",
       "</tbody>\n",
       "</table>\n"
      ],
      "text/latex": [
       "A tibble: 6 × 7\n",
       "\\begin{tabular}{lllllll}\n",
       " Match & Attractiveness & Sincerity & Intelligence & Funniness & Ambition & Shared\\_Interest\\\\\n",
       " <fct> & <dbl> & <dbl> & <dbl> & <dbl> & <dbl> & <dbl>\\\\\n",
       "\\hline\n",
       "\t no  &  6 &  8 &  8 &  8 &  8 &  6\\\\\n",
       "\t no  &  7 &  8 & 10 &  7 &  7 &  5\\\\\n",
       "\t yes & 10 & 10 & 10 & 10 & 10 & 10\\\\\n",
       "\t yes &  7 &  8 &  9 &  8 &  9 &  8\\\\\n",
       "\t yes &  8 &  7 &  9 &  6 &  9 &  7\\\\\n",
       "\t no  &  7 &  7 &  8 &  8 &  7 &  7\\\\\n",
       "\\end{tabular}\n"
      ],
      "text/markdown": [
       "\n",
       "A tibble: 6 × 7\n",
       "\n",
       "| Match &lt;fct&gt; | Attractiveness &lt;dbl&gt; | Sincerity &lt;dbl&gt; | Intelligence &lt;dbl&gt; | Funniness &lt;dbl&gt; | Ambition &lt;dbl&gt; | Shared_Interest &lt;dbl&gt; |\n",
       "|---|---|---|---|---|---|---|\n",
       "| no  |  6 |  8 |  8 |  8 |  8 |  6 |\n",
       "| no  |  7 |  8 | 10 |  7 |  7 |  5 |\n",
       "| yes | 10 | 10 | 10 | 10 | 10 | 10 |\n",
       "| yes |  7 |  8 |  9 |  8 |  9 |  8 |\n",
       "| yes |  8 |  7 |  9 |  6 |  9 |  7 |\n",
       "| no  |  7 |  7 |  8 |  8 |  7 |  7 |\n",
       "\n"
      ],
      "text/plain": [
       "  Match Attractiveness Sincerity Intelligence Funniness Ambition\n",
       "1 no     6              8         8            8         8      \n",
       "2 no     7              8        10            7         7      \n",
       "3 yes   10             10        10           10        10      \n",
       "4 yes    7              8         9            8         9      \n",
       "5 yes    8              7         9            6         9      \n",
       "6 no     7              7         8            8         7      \n",
       "  Shared_Interest\n",
       "1  6             \n",
       "2  5             \n",
       "3 10             \n",
       "4  8             \n",
       "5  7             \n",
       "6  7             "
      ]
     },
     "metadata": {},
     "output_type": "display_data"
    }
   ],
   "source": [
    "# Selecting desired rows\n",
    "speed_dating_select <- speed_dating_data |>\n",
    "    filter(wave != 6:9) |> # These waves had a different rating system for traits\n",
    "    mutate(match = as_factor(match)) |>\n",
    "    select(match, attr_o, sinc_o, intel_o, fun_o, amb_o, shar_o)\n",
    "\n",
    "# Filtering the data of improper observations\n",
    "speed_dating_tidy <- speed_dating_select |>\n",
    "    filter(attr_o %% 1 == 0,\n",
    "          sinc_o %% 1 == 0,\n",
    "          intel_o %% 1 == 0,\n",
    "          fun_o %% 1 == 0,\n",
    "          amb_o %% 1 == 0, \n",
    "          shar_o %% 1 == 0,\n",
    "          fun_o <= 10)\n",
    "\n",
    "# Renaming categorical values\n",
    "levels(speed_dating_tidy$match)[2] <- \"yes\"\n",
    "levels(speed_dating_tidy$match)[1] <- \"no\"\n",
    "\n",
    "# Renaming columns\n",
    "colnames(speed_dating_tidy) <- c(\"Match\", \"Attractiveness\", \"Sincerity\", \"Intelligence\", \"Funniness\", \"Ambition\", \"Shared_Interest\")\n",
    "\n",
    "# Preview of tidied dataset\n",
    "head(speed_dating_tidy)"
   ]
  },
  {
   "cell_type": "markdown",
   "id": "14cbc132-7dcc-48cf-8984-c9754938c8fa",
   "metadata": {},
   "source": [
    "> **Table 2.0: Tidied Dataset** <br />\n",
    "> The head of the tidied dataset that we will be working with for the remainder of this study. <br />\n",
    "> **IMPORTANT NOTE**: 10 is the highest or \"best\" value, while 0 is the lowest or \"worst\" value. "
   ]
  },
  {
   "cell_type": "markdown",
   "id": "80d5c53a-f913-429a-bc6f-d85d49dc5e61",
   "metadata": {},
   "source": [
    "#### 5. Column Legend\n",
    "- **Match**: Whether or not the individual matched with their partner\n",
    "- **Attractiveness**: How attractive the individual was rated by their partner\n",
    "- **Sincerity**: How sincere the individual was rated by their partner\n",
    "- **Intelligence**: How intelligent the individual was rated by their partner\n",
    "- **Funniness**: How funny the individual was rated by their partner\n",
    "- **Ambition**: How ambitious the individual was rated by their partner\n",
    "- **Shared_Interest**: How similar the individual and partner's interests are"
   ]
  },
  {
   "cell_type": "code",
   "execution_count": 7,
   "id": "ce7a9464-3412-4f05-a02e-859f6d36fa92",
   "metadata": {},
   "outputs": [
    {
     "data": {
      "image/png": "[encoded data removed]",
      "text/plain": [
       "plot without title"
      ]
     },
     "metadata": {
      "image/png": {
       "height": 540,
       "width": 1500
      }
     },
     "output_type": "display_data"
    }
   ],
   "source": [
    "# Plotting\n",
    "options(repr.plot.width=25, repr.plot.height=9)\n",
    "\n",
    "attract_boxplot <- speed_dating_tidy |>\n",
    "    ggplot(aes(x = Attractiveness, y = Match, fill = Match)) + \n",
    "    geom_boxplot() +\n",
    "    labs(x = \"Attractiveness\", y = \"Match\", fill = \"Match\") + \n",
    "    scale_x_continuous(breaks = seq(0, 10, by = 2)) + \n",
    "    theme(text = element_text(size = 15)) + \n",
    "    stat_summary(fun=mean, geom=\"point\", shape=23, size=4) + \n",
    "    stat_summary(aes(label=round(..x..,2)), fun=mean, geom=\"text\", size=6, vjust = -0.5)\n",
    "\n",
    "sincere_boxplot <- speed_dating_tidy |>\n",
    "    ggplot(aes(x = Sincerity, y = Match, fill = Match)) + \n",
    "    geom_boxplot() +\n",
    "    labs(x = \"Sincerity\", y = \"Match\", fill = \"Match\") + \n",
    "    scale_x_continuous(breaks = seq(0, 10, by = 2)) + \n",
    "    theme(text = element_text(size = 15)) + \n",
    "    stat_summary(fun=mean, geom=\"point\", shape=23, size=4) + \n",
    "    stat_summary(aes(label=round(..x..,2)), fun=mean, geom=\"text\", size=6, vjust = -0.5)\n",
    "\n",
    "intel_boxplot <- speed_dating_tidy |>\n",
    "    ggplot(aes(x = Intelligence, y = Match, fill = Match)) + \n",
    "    geom_boxplot() +\n",
    "    labs(x = \"Intelligence\", y = \"Match\", fill = \"Match\") + \n",
    "    scale_x_continuous(breaks = seq(0, 10, by = 2)) + \n",
    "    theme(text = element_text(size = 15)) + \n",
    "    stat_summary(fun=mean, geom=\"point\", shape=23, size=4) + \n",
    "    stat_summary(aes(label=round(..x..,2)), fun=mean, geom=\"text\", size=6, vjust = -0.5)\n",
    "\n",
    "funny_boxplot <- speed_dating_tidy |>\n",
    "    ggplot(aes(x = Funniness, y = Match, fill = Match)) + \n",
    "    geom_boxplot() +\n",
    "    labs(x = \"Funniness\", y = \"Match\", fill = \"Match\") + \n",
    "    scale_x_continuous(breaks = seq(0, 10, by = 2)) + \n",
    "    theme(text = element_text(size = 15)) + \n",
    "    stat_summary(fun=mean, geom=\"point\", shape=23, size=4) + \n",
    "    stat_summary(aes(label=round(..x..,2)), fun=mean, geom=\"text\", size=6, vjust = -0.5)\n",
    "\n",
    "ambition_boxplot <- speed_dating_tidy |>\n",
    "    ggplot(aes(x = Ambition, y = Match, fill = Match)) + \n",
    "    geom_boxplot() +\n",
    "    labs(x = \"Ambition\", y = \"Match\", fill = \"Match\") + \n",
    "    scale_x_continuous(breaks = seq(0, 10, by = 2)) + \n",
    "    theme(text = element_text(size = 15)) + \n",
    "    stat_summary(fun=mean, geom=\"point\", shape=23, size=4) + \n",
    "    stat_summary(aes(label=round(..x..,2)), fun=mean, geom=\"text\", size=6, vjust = -0.5)\n",
    "\n",
    "shared_interest_plot <- speed_dating_tidy |>\n",
    "    ggplot(aes(x = Shared_Interest, y = Match, fill = Match)) + \n",
    "    geom_boxplot() +\n",
    "    labs(x = \"Shared Interest\", y = \"Match\", fill = \"Match\") + \n",
    "    scale_x_continuous(breaks = seq(0, 10, by = 2)) + \n",
    "    theme(text = element_text(size = 15)) + \n",
    "    stat_summary(fun=mean, geom=\"point\", shape=23, size=4) + \n",
    "    stat_summary(aes(label=round(..x..,2)), fun=mean, geom=\"text\", size=6, vjust = -0.5)\n",
    "\n",
    "grid.arrange(attract_boxplot, sincere_boxplot, intel_boxplot, funny_boxplot, ambition_boxplot, shared_interest_plot,\n",
    "             nrow = 2, top = textGrob(\"Distribution of Characteristics\", gp=gpar(fontsize=15,font=8)))"
   ]
  },
  {
   "cell_type": "markdown",
   "id": "ea82382e-bf85-46f3-9aad-827e6d9ef651",
   "metadata": {},
   "source": [
    "> **Figure 1.0: Distributions of Characteristics** <br />\n",
    "> A distribution of all of the observation's physical and personality traits. "
   ]
  },
  {
   "cell_type": "markdown",
   "id": "32b0a523-d324-46ed-b849-ce77bb45e40d",
   "metadata": {},
   "source": [
    "#### 6. Variable Importance\n",
    "\n",
    "By looking at the figure above, we can see that some variables clearly have a higher correlation with being matched than others. For example, the median funniness rating of those who matched was 8, while those who did not match had a median of 6, so clearly being more funny increases your chances of being matched. However, the median score for ambition of both those who matched and those who did not are both 7, implying that ambition has a weaker correlation with being matched. To get a better understanding of these relationships, we will take the difference of means of each trait between the groups who matched and the groups who didn't, and see which values have the largest difference, and therefore the strongest correlation with being matched."
   ]
  },
  {
   "cell_type": "code",
   "execution_count": 8,
   "id": "62e93ae7-42f9-431c-aaec-41b5fcf6a7da",
   "metadata": {},
   "outputs": [
    {
     "data": {
      "text/html": [
       "<table class=\"dataframe\">\n",
       "<caption>A tibble: 2 × 7</caption>\n",
       "<thead>\n",
       "\t<tr><th scope=col>Match</th><th scope=col>Mean_Attractiveness</th><th scope=col>Mean_Sincerity</th><th scope=col>Mean_Intelligence</th><th scope=col>Mean_Funniness</th><th scope=col>Mean_Ambition</th><th scope=col>Mean_Shared_Interest</th></tr>\n",
       "\t<tr><th scope=col>&lt;fct&gt;</th><th scope=col>&lt;dbl&gt;</th><th scope=col>&lt;dbl&gt;</th><th scope=col>&lt;dbl&gt;</th><th scope=col>&lt;dbl&gt;</th><th scope=col>&lt;dbl&gt;</th><th scope=col>&lt;dbl&gt;</th></tr>\n",
       "</thead>\n",
       "<tbody>\n",
       "\t<tr><td>no </td><td>5.953032</td><td>7.029332</td><td>7.233399</td><td>6.148101</td><td>6.645852</td><td>5.193990</td></tr>\n",
       "\t<tr><td>yes</td><td>7.321429</td><td>7.815331</td><td>7.959930</td><td>7.617596</td><td>7.342334</td><td>6.776132</td></tr>\n",
       "</tbody>\n",
       "</table>\n"
      ],
      "text/latex": [
       "A tibble: 2 × 7\n",
       "\\begin{tabular}{lllllll}\n",
       " Match & Mean\\_Attractiveness & Mean\\_Sincerity & Mean\\_Intelligence & Mean\\_Funniness & Mean\\_Ambition & Mean\\_Shared\\_Interest\\\\\n",
       " <fct> & <dbl> & <dbl> & <dbl> & <dbl> & <dbl> & <dbl>\\\\\n",
       "\\hline\n",
       "\t no  & 5.953032 & 7.029332 & 7.233399 & 6.148101 & 6.645852 & 5.193990\\\\\n",
       "\t yes & 7.321429 & 7.815331 & 7.959930 & 7.617596 & 7.342334 & 6.776132\\\\\n",
       "\\end{tabular}\n"
      ],
      "text/markdown": [
       "\n",
       "A tibble: 2 × 7\n",
       "\n",
       "| Match &lt;fct&gt; | Mean_Attractiveness &lt;dbl&gt; | Mean_Sincerity &lt;dbl&gt; | Mean_Intelligence &lt;dbl&gt; | Mean_Funniness &lt;dbl&gt; | Mean_Ambition &lt;dbl&gt; | Mean_Shared_Interest &lt;dbl&gt; |\n",
       "|---|---|---|---|---|---|---|\n",
       "| no  | 5.953032 | 7.029332 | 7.233399 | 6.148101 | 6.645852 | 5.193990 |\n",
       "| yes | 7.321429 | 7.815331 | 7.959930 | 7.617596 | 7.342334 | 6.776132 |\n",
       "\n"
      ],
      "text/plain": [
       "  Match Mean_Attractiveness Mean_Sincerity Mean_Intelligence Mean_Funniness\n",
       "1 no    5.953032            7.029332       7.233399          6.148101      \n",
       "2 yes   7.321429            7.815331       7.959930          7.617596      \n",
       "  Mean_Ambition Mean_Shared_Interest\n",
       "1 6.645852      5.193990            \n",
       "2 7.342334      6.776132            "
      ]
     },
     "metadata": {},
     "output_type": "display_data"
    }
   ],
   "source": [
    "# Taking means of each trait\n",
    "speed_dating_means <- speed_dating_tidy |>\n",
    "    group_by(Match) |>\n",
    "    summarize(Mean_Attractiveness = mean(Attractiveness),\n",
    "              Mean_Sincerity = mean(Sincerity),\n",
    "              Mean_Intelligence = mean(Intelligence),\n",
    "              Mean_Funniness = mean(Funniness),\n",
    "              Mean_Ambition = mean(Ambition), \n",
    "              Mean_Shared_Interest = mean(Shared_Interest))\n",
    "speed_dating_means"
   ]
  },
  {
   "cell_type": "markdown",
   "id": "09102dcc-5635-4322-83a0-2a22c260b08c",
   "metadata": {},
   "source": [
    "> **Table 3.0: Means of \"Yes\" and \"No\" Traits** <br />\n",
    "> Note that the means of the \"yes\" observations are all higher than the \"no\" observations, implying some correlation between the traits and whether an observation matches or not."
   ]
  },
  {
   "cell_type": "markdown",
   "id": "cb396289-b115-432c-8c2d-8bf9d649ed37",
   "metadata": {},
   "source": [
    "Now that we have the means, we will take the difference between the observations that matched and the ones that did not, to see which has the largest correlation. "
   ]
  },
  {
   "cell_type": "code",
   "execution_count": 9,
   "id": "ec2e30f1-2791-4731-83aa-16703bff4f2c",
   "metadata": {},
   "outputs": [
    {
     "data": {
      "text/html": [
       "<table class=\"dataframe\">\n",
       "<caption>A data.frame: 1 × 6</caption>\n",
       "<thead>\n",
       "\t<tr><th scope=col>Attract_Diff</th><th scope=col>Sincere_Diff</th><th scope=col>Intel_Diff</th><th scope=col>Funny_Diff</th><th scope=col>Ambition_Diff</th><th scope=col>Shared_Interest_Diff</th></tr>\n",
       "\t<tr><th scope=col>&lt;dbl&gt;</th><th scope=col>&lt;dbl&gt;</th><th scope=col>&lt;dbl&gt;</th><th scope=col>&lt;dbl&gt;</th><th scope=col>&lt;dbl&gt;</th><th scope=col>&lt;dbl&gt;</th></tr>\n",
       "</thead>\n",
       "<tbody>\n",
       "\t<tr><td>1.368396</td><td>0.7859986</td><td>0.726531</td><td>1.469494</td><td>0.6964824</td><td>1.582143</td></tr>\n",
       "</tbody>\n",
       "</table>\n"
      ],
      "text/latex": [
       "A data.frame: 1 × 6\n",
       "\\begin{tabular}{llllll}\n",
       " Attract\\_Diff & Sincere\\_Diff & Intel\\_Diff & Funny\\_Diff & Ambition\\_Diff & Shared\\_Interest\\_Diff\\\\\n",
       " <dbl> & <dbl> & <dbl> & <dbl> & <dbl> & <dbl>\\\\\n",
       "\\hline\n",
       "\t 1.368396 & 0.7859986 & 0.726531 & 1.469494 & 0.6964824 & 1.582143\\\\\n",
       "\\end{tabular}\n"
      ],
      "text/markdown": [
       "\n",
       "A data.frame: 1 × 6\n",
       "\n",
       "| Attract_Diff &lt;dbl&gt; | Sincere_Diff &lt;dbl&gt; | Intel_Diff &lt;dbl&gt; | Funny_Diff &lt;dbl&gt; | Ambition_Diff &lt;dbl&gt; | Shared_Interest_Diff &lt;dbl&gt; |\n",
       "|---|---|---|---|---|---|\n",
       "| 1.368396 | 0.7859986 | 0.726531 | 1.469494 | 0.6964824 | 1.582143 |\n",
       "\n"
      ],
      "text/plain": [
       "  Attract_Diff Sincere_Diff Intel_Diff Funny_Diff Ambition_Diff\n",
       "1 1.368396     0.7859986    0.726531   1.469494   0.6964824    \n",
       "  Shared_Interest_Diff\n",
       "1 1.582143            "
      ]
     },
     "metadata": {},
     "output_type": "display_data"
    }
   ],
   "source": [
    "# Means of observations that matched\n",
    "speed_dating_yes <- speed_dating_means |>\n",
    "    slice(1) |>\n",
    "    select(-Match) \n",
    "\n",
    "# Means of observations that did not match\n",
    "speed_dating_no <- speed_dating_means |>\n",
    "    slice(2) |>\n",
    "    select(-Match)\n",
    "\n",
    "# Taking the difference of \"yes\" and \"no\" means\n",
    "speed_dating_diffs <- abs(speed_dating_yes - speed_dating_no)\n",
    "\n",
    "# Renaming columns\n",
    "colnames(speed_dating_diffs) <- c(\"Attract_Diff\", \"Sincere_Diff\", \"Intel_Diff\", \"Funny_Diff\", \"Ambition_Diff\", \"Shared_Interest_Diff\")\n",
    "\n",
    "speed_dating_diffs"
   ]
  },
  {
   "cell_type": "markdown",
   "id": "e5f2576e-6b34-4373-b005-c2d7c1961ed3",
   "metadata": {},
   "source": [
    "> **Table 3.1: Class Trait Mean Differences** <br />\n",
    "> Since the differences are larger in Attractiveness, Funniness, and Shared Interest, we can say that they have a stronger correlation with being matched."
   ]
  },
  {
   "cell_type": "markdown",
   "id": "c643ca86-5cfd-40bd-8bd5-689fa4f21c63",
   "metadata": {},
   "source": [
    "#### 7. Variable Discussion\n",
    "\n",
    "From the table above, we observe that **attractiveness**, **funniness** and **shared interest** have a significantly stronger correlation with getting a match than the other traits. Therefore, we will create a model which only uses those 3 variables as predictors, as it will create a more accurate model."
   ]
  },
  {
   "cell_type": "markdown",
   "id": "51781533-92f3-4455-85cd-3b09bcde4a8b",
   "metadata": {},
   "source": [
    "#### 8. Creating the Classification Model\n",
    "\n",
    "Now that we have concluded our exploratory data analysis, we can create our predictive model, using the predictors that we selected.\n",
    "We will be creating a **K-Nearest Neighbours** classification model to predict whether an observation will match or not. To begin, we will split the data into a training set and a testing set, with proportions of **75%** and **25%**, respectfully. "
   ]
  },
  {
   "cell_type": "code",
   "execution_count": 10,
   "id": "dab7a705-f1ca-4715-a0fb-2f572491bd4c",
   "metadata": {},
   "outputs": [],
   "source": [
    "# Setting a seed\n",
    "set.seed(1000)\n",
    "\n",
    "# Splitting the data\n",
    "speed_dating_split <- initial_split(speed_dating_tidy, prop = 0.75, strata = Match)\n",
    "speed_dating_train <- training(speed_dating_split)\n",
    "speed_dating_test <- testing(speed_dating_split)"
   ]
  },
  {
   "cell_type": "markdown",
   "id": "4005d99b-12bc-44a0-ac3c-f419884775b7",
   "metadata": {},
   "source": [
    "#### 9. Upsampling the Data\n",
    "\n",
    "One issue with our dataset that was noticed is that there exists a class imbalance between the observations who matched and the ones who did not (see table below). Since we plan to use a K-Nearest Neighbours classifier, a class imbalance is quite problematic, as most of the neighbours will be ones that did not match, so the model will classify almost every observation as one that did not match. To fix this, we will upsample the minority class in the training class, so the model is trained with a balanced dataset."
   ]
  },
  {
   "cell_type": "code",
   "execution_count": 11,
   "id": "6e31cbc0-ff62-47ed-a259-e3816b11e09a",
   "metadata": {},
   "outputs": [
    {
     "data": {
      "text/html": [
       "<table class=\"dataframe\">\n",
       "<caption>A tibble: 2 × 2</caption>\n",
       "<thead>\n",
       "\t<tr><th scope=col>Match</th><th scope=col>n</th></tr>\n",
       "\t<tr><th scope=col>&lt;fct&gt;</th><th scope=col>&lt;int&gt;</th></tr>\n",
       "</thead>\n",
       "<tbody>\n",
       "\t<tr><td>no </td><td>4167</td></tr>\n",
       "\t<tr><td>yes</td><td> 861</td></tr>\n",
       "</tbody>\n",
       "</table>\n"
      ],
      "text/latex": [
       "A tibble: 2 × 2\n",
       "\\begin{tabular}{ll}\n",
       " Match & n\\\\\n",
       " <fct> & <int>\\\\\n",
       "\\hline\n",
       "\t no  & 4167\\\\\n",
       "\t yes &  861\\\\\n",
       "\\end{tabular}\n"
      ],
      "text/markdown": [
       "\n",
       "A tibble: 2 × 2\n",
       "\n",
       "| Match &lt;fct&gt; | n &lt;int&gt; |\n",
       "|---|---|\n",
       "| no  | 4167 |\n",
       "| yes |  861 |\n",
       "\n"
      ],
      "text/plain": [
       "  Match n   \n",
       "1 no    4167\n",
       "2 yes    861"
      ]
     },
     "metadata": {},
     "output_type": "display_data"
    }
   ],
   "source": [
    "# Identifying class imbalance\n",
    "speed_dating_train |>\n",
    "    group_by(Match) |>\n",
    "    summarize(n = n())"
   ]
  },
  {
   "cell_type": "markdown",
   "id": "4d8b395d-1965-4a3e-bd8d-0d14d6059992",
   "metadata": {
    "tags": []
   },
   "source": [
    "> **Table 4.0: Class Counts in the Training Set** <br />\n",
    "> There are significantly more \"no\" observations, which indicates a class imbalance."
   ]
  },
  {
   "cell_type": "code",
   "execution_count": 12,
   "id": "b2fc0117-eeb5-43cf-aadf-b80f5dd86a10",
   "metadata": {},
   "outputs": [
    {
     "data": {
      "text/html": [
       "<table class=\"dataframe\">\n",
       "<caption>A tibble: 2 × 2</caption>\n",
       "<thead>\n",
       "\t<tr><th scope=col>Match</th><th scope=col>n</th></tr>\n",
       "\t<tr><th scope=col>&lt;fct&gt;</th><th scope=col>&lt;int&gt;</th></tr>\n",
       "</thead>\n",
       "<tbody>\n",
       "\t<tr><td>no </td><td>4167</td></tr>\n",
       "\t<tr><td>yes</td><td>4167</td></tr>\n",
       "</tbody>\n",
       "</table>\n"
      ],
      "text/latex": [
       "A tibble: 2 × 2\n",
       "\\begin{tabular}{ll}\n",
       " Match & n\\\\\n",
       " <fct> & <int>\\\\\n",
       "\\hline\n",
       "\t no  & 4167\\\\\n",
       "\t yes & 4167\\\\\n",
       "\\end{tabular}\n"
      ],
      "text/markdown": [
       "\n",
       "A tibble: 2 × 2\n",
       "\n",
       "| Match &lt;fct&gt; | n &lt;int&gt; |\n",
       "|---|---|\n",
       "| no  | 4167 |\n",
       "| yes | 4167 |\n",
       "\n"
      ],
      "text/plain": [
       "  Match n   \n",
       "1 no    4167\n",
       "2 yes   4167"
      ]
     },
     "metadata": {},
     "output_type": "display_data"
    }
   ],
   "source": [
    "# Prepping the recipe\n",
    "upsample_recipe <- recipe(Match ~ Attractiveness + Funniness + Shared_Interest, data = speed_dating_train) |>\n",
    "  step_upsample(Match, over_ratio = 1, skip = FALSE) |>\n",
    "  prep()\n",
    "\n",
    "# Baking a new training set\n",
    "speed_dating_train_upsampled <- bake(upsample_recipe, speed_dating_train)\n",
    "\n",
    "# Matches\n",
    "speed_dating_train_upsampled |>\n",
    "    group_by(Match) |>\n",
    "    summarize(n = n())"
   ]
  },
  {
   "cell_type": "markdown",
   "id": "55b00a38-5198-4504-85ae-86d839b8de79",
   "metadata": {},
   "source": [
    "> **Table 4.1: Class Counts in the Upsampled Training Set** <br />\n",
    "> Now that the training set is no longer unbalanced, the model will take more \"yes\" observations into account, and we avoid bias towards \"no\" observations. "
   ]
  },
  {
   "cell_type": "markdown",
   "id": "ad843882-2643-441e-8baa-68373dee0df1",
   "metadata": {},
   "source": [
    "#### 10. Tuning the Model\n",
    "\n",
    "Now that we have upsampled the training data, we can perform a **5 fold Cross Validation** on the training data, to find the optimal value of **K** to use in our model."
   ]
  },
  {
   "cell_type": "code",
   "execution_count": 13,
   "id": "698086c8-2bae-40e3-ade1-ccd3018dd7af",
   "metadata": {},
   "outputs": [
    {
     "data": {
      "image/png": "[encoded data removed]",
      "text/plain": [
       "plot without title"
      ]
     },
     "metadata": {
      "image/png": {
       "height": 480,
       "width": 480
      }
     },
     "output_type": "display_data"
    }
   ],
   "source": [
    "options(repr.plot.width=8, repr.plot.height=8)\n",
    "\n",
    "# Setting a seed\n",
    "set.seed(1000)\n",
    "\n",
    "# Creating a tuning model\n",
    "knn_tune <- nearest_neighbor(weight_func = \"rectangular\", neighbors = tune()) |>\n",
    "    set_engine(\"kknn\") |>\n",
    "    set_mode(\"classification\")\n",
    "\n",
    "# Creating the folds\n",
    "speed_dating_vfold <- vfold_cv(data = speed_dating_train_upsampled, v = 5, strata = Match)\n",
    "\n",
    "# K values that we would like to test\n",
    "k_value <- tibble(neighbors = seq(from = 1, to = 10, by = 1))\n",
    "\n",
    "# Creating an upsampled recipe\n",
    "# Note: no need to scale, as all variables are rated from 0-10\n",
    "speed_dating_recipe <- recipe(Match ~ Attractiveness + Funniness + Shared_Interest, data = speed_dating_train_upsampled)\n",
    "\n",
    "# Performing the cross validation, and collecting the results\n",
    "knn_results <- workflow() |>\n",
    "    add_recipe(speed_dating_recipe) |>\n",
    "    add_model(knn_tune) |>\n",
    "    tune_grid(resamples = speed_dating_vfold, grid = k_value) |>\n",
    "    collect_metrics() \n",
    "\n",
    "accuracies <- knn_results |>\n",
    "    filter(.metric == \"accuracy\")\n",
    "\n",
    "# Plotting the results\n",
    "cross_val_plot <- accuracies |>\n",
    "    ggplot(aes(x = neighbors, y = mean)) +\n",
    "    geom_point() +\n",
    "    geom_line() +\n",
    "    geom_vline(xintercept = 9, colour = \"blue\") +\n",
    "    geom_point(aes(x = 9, y = 0.5609), size = 4) +\n",
    "    labs(x = \"Neighbors\", y = \"Accuracy Estimate\")\n",
    "cross_val_plot"
   ]
  },
  {
   "cell_type": "markdown",
   "id": "88f3b3d3-a248-4c0d-ac15-604bd5a5bcf0",
   "metadata": {},
   "source": [
    "> **Figure 2.0: Cross-Validation Results** <br />\n",
    "> A plot of the validation accuracy of each k value used on the training set. The maximum value is 9."
   ]
  },
  {
   "cell_type": "markdown",
   "id": "fc751e80-b8a7-4d35-b843-13f2a755cf04",
   "metadata": {},
   "source": [
    "#### 11. Creating the Model\n",
    "\n",
    "By observing the plot above and seeing which K value will result in the highest accuracy, we decided to create a K-NN Classification model which uses **9** neighbours. "
   ]
  },
  {
   "cell_type": "code",
   "execution_count": 14,
   "id": "004e6878-dbf8-48ca-8adf-d53c4086ef98",
   "metadata": {},
   "outputs": [],
   "source": [
    "# Creating a model with the optimal K value\n",
    "knn_optimal <- nearest_neighbor(weight_func = \"rectangular\", neighbors = 9) |>\n",
    "    set_engine(\"kknn\") |>\n",
    "    set_mode(\"classification\")\n",
    "\n",
    "# Fitting the model on the training data\n",
    "speed_dating_fit <- workflow() |>\n",
    "    add_recipe(speed_dating_recipe) |>\n",
    "    add_model(knn_optimal) |>\n",
    "    fit(data = speed_dating_train_upsampled)"
   ]
  },
  {
   "cell_type": "markdown",
   "id": "5d3dbc63-64a8-4d10-badd-49fc151ec14b",
   "metadata": {},
   "source": [
    "#### 12. Testing the model\n",
    "\n",
    "Now that we have created a model, we will apply it to the **testing set** to analyze the accuracy of this model."
   ]
  },
  {
   "cell_type": "code",
   "execution_count": 15,
   "id": "5f6855d8-2198-4131-84c3-48a248ae154a",
   "metadata": {},
   "outputs": [
    {
     "data": {
      "text/html": [
       "<table class=\"dataframe\">\n",
       "<caption>A tibble: 2 × 3</caption>\n",
       "<thead>\n",
       "\t<tr><th scope=col>.metric</th><th scope=col>.estimator</th><th scope=col>.estimate</th></tr>\n",
       "\t<tr><th scope=col>&lt;chr&gt;</th><th scope=col>&lt;chr&gt;</th><th scope=col>&lt;dbl&gt;</th></tr>\n",
       "</thead>\n",
       "<tbody>\n",
       "\t<tr><td>accuracy</td><td>binary</td><td>0.8163387</td></tr>\n",
       "\t<tr><td>kap     </td><td>binary</td><td>0.1381633</td></tr>\n",
       "</tbody>\n",
       "</table>\n"
      ],
      "text/latex": [
       "A tibble: 2 × 3\n",
       "\\begin{tabular}{lll}\n",
       " .metric & .estimator & .estimate\\\\\n",
       " <chr> & <chr> & <dbl>\\\\\n",
       "\\hline\n",
       "\t accuracy & binary & 0.8163387\\\\\n",
       "\t kap      & binary & 0.1381633\\\\\n",
       "\\end{tabular}\n"
      ],
      "text/markdown": [
       "\n",
       "A tibble: 2 × 3\n",
       "\n",
       "| .metric &lt;chr&gt; | .estimator &lt;chr&gt; | .estimate &lt;dbl&gt; |\n",
       "|---|---|---|\n",
       "| accuracy | binary | 0.8163387 |\n",
       "| kap      | binary | 0.1381633 |\n",
       "\n"
      ],
      "text/plain": [
       "  .metric  .estimator .estimate\n",
       "1 accuracy binary     0.8163387\n",
       "2 kap      binary     0.1381633"
      ]
     },
     "metadata": {},
     "output_type": "display_data"
    }
   ],
   "source": [
    "# Predicting the classes of the testing set using the model we fit earlier\n",
    "predictions <- predict(speed_dating_fit, speed_dating_test) |>\n",
    "    bind_cols(speed_dating_test)\n",
    "\n",
    "# Collecting the metrics of the predictions\n",
    "accuracies <- predictions |>\n",
    "    metrics(truth = Match, estimate = .pred_class)\n",
    "\n",
    "accuracies"
   ]
  },
  {
   "cell_type": "markdown",
   "id": "d137bfe6-d0cb-45d7-82b7-b327369a00e9",
   "metadata": {},
   "source": [
    "> **Table 5.0: Model Prediction Accuracy** <br />\n",
    "> The model resulted in 82% accuracy when tested on the testing set."
   ]
  },
  {
   "cell_type": "markdown",
   "id": "af7b30f9-02a6-4d00-b8d0-9b35ca64d7ad",
   "metadata": {},
   "source": [
    "The results of our model show that it has around an **82%** accuracy when applied to the testing set. We will create a plot of the **confusion matrix** to get a better understanding of which parts of our model could be improved."
   ]
  },
  {
   "cell_type": "code",
   "execution_count": 16,
   "id": "c47e963b-24e0-4f46-9d5c-cfc7eb9983b4",
   "metadata": {},
   "outputs": [
    {
     "data": {
      "image/png": "[encoded data removed]",
      "text/plain": [
       "plot without title"
      ]
     },
     "metadata": {
      "image/png": {
       "height": 540,
       "width": 540
      }
     },
     "output_type": "display_data"
    }
   ],
   "source": [
    "options(repr.plot.width=9, repr.plot.height=9)\n",
    "\n",
    "# Creating a confusion matrix of our predictions\n",
    "accuracy_matrix <- predictions |>\n",
    "    conf_mat(truth = Match, estimate = .pred_class)\n",
    "\n",
    "# Making a table from the confusion matrix\n",
    "true_class <- factor(c(\"Yes\", \"Yes\", \"No\", \"No\"))\n",
    "predicted_class <- factor(c(\"Yes\", \"No\", \"Yes\", \"No\"))\n",
    "counts <- c(43, 244, 64, 1326) # Values found by observing result of using conf_mat on the predictions\n",
    "\n",
    "matrix_table <- tibble(Truth = true_class,\n",
    "                       Predicted = predicted_class,\n",
    "                       Counts = counts)\n",
    "\n",
    "# Plotting the confusion matrix\n",
    "matrix_table |> ggplot(aes(x = Truth, y = Predicted, fill = Counts)) +\n",
    "    geom_tile() +\n",
    "    geom_text(aes(label = Counts), vjust = 1) +\n",
    "    scale_fill_gradient(low = \"white\", high = \"#009194\") +\n",
    "    theme_bw() + \n",
    "    theme(text = element_text(size = 20)) + \n",
    "    ggtitle(\"Classification Model Confusion Matrix\")"
   ]
  },
  {
   "cell_type": "markdown",
   "id": "97eb6238-3c3d-4dd9-a38e-6b7273c5de74",
   "metadata": {},
   "source": [
    "> **Figure 3.0: Prediction Confusion Matrix** <br />\n",
    "> The majority of the predictions were \"no\" predictions, and there were very few correctly predicted \"yes\" observations. "
   ]
  },
  {
   "cell_type": "markdown",
   "id": "6bc633e6-9b53-4877-92d5-77c9192cf050",
   "metadata": {},
   "source": [
    "#### 13. Results\n",
    "\n",
    "From the plot above, we can see that this model has **very few true positives**, which implies that it is actually not very effective for predicting whether an individual will match based on their attractiveness, funniness, and shared interests with their partner. The reason the accuracy remains high is due to most of the observations in the testing set not matching, so our model, which almost always predicts that an observation will not match, is still usually correct. In the next section, we discuss the importance of these findings and future research questions that this will lead to. "
   ]
  },
  {
   "cell_type": "markdown",
   "id": "93c564b9-365f-41be-959a-4b884fad9c17",
   "metadata": {},
   "source": [
    "## Discussion"
   ]
  },
  {
   "cell_type": "markdown",
   "id": "5a05e7b8-b3b8-47c7-b213-e59fd293a03f",
   "metadata": {},
   "source": [
    "#### Our Findings\n",
    "\n",
    "Despite the inaccuracies of our model, there is still much to learn from the results. Our model correctly predicted most of the observations that did not match, which implies that having lower ratings of your characteristics (attractiveness, funniness, etc.) correlates with *not* matching. However, this also implies that this correlation is not present in higher ratings, as our model failed to predict many observations that did match. This is reasonable as the means of the observations that matched were higher than the ones that didn't (see Table 3.0: Means of \"Yes\" and \"No\" Traits), but were not exceptionally high, hovering around 7-8 at average. "
   ]
  },
  {
   "cell_type": "markdown",
   "id": "4ad457f3-c54f-489a-a933-cdf80359353f",
   "metadata": {},
   "source": [
    "#### Expectations and Results\n",
    "\n",
    "Our original expectation was that these characteristics would have an extremely strong correlation with matching, since it makes sense that the more attractive or funny you are, the most desirable you are for future dates, or a longer term relationship. However, we see from the outliers of the observations that matched (see Figure 1.0: Distributions of Characteristics) that this is not always true, as some people that matched were rated as low as 1 in attractiveness, or even 0 in shared interest, still matched. These outliers are also reasonable, implying that many characteristics are taken into account when deciding whether someone is a good match for you, not just how attractive or funny they are. \n",
    "\n",
    "An important aspect that must be taken into account with this study is the subjectiveness of these traits. A detail that was not covered in this study was that the same individual was often rated differently by different participants, so using these traits as a predictor can be very inaccurate, as different people's perception of what is or isn't attractive can vary drastically. It is also important to realize that the data from this study was taken from a speed dating event, so it may be even more inaccurate if applied to relationship activities outside of speed dating. "
   ]
  },
  {
   "cell_type": "markdown",
   "id": "7900d457-d2be-4465-8174-60fcd0f974e4",
   "metadata": {},
   "source": [
    "#### The Importance of this Study\n",
    "\n",
    "This study can be useful for future researchers who are working with relationship related studies, as they can use the model to predict whether individuals have a high chance of matching or not. It is also useful for researchers studying the nature of human relationships, and what actually makes an individual want an relationship with another. It also reveals a bit about the nature behind human attraction, seeing as having better traits like attractiveness or intelligence does not always make an individual more desirable for a relationship. "
   ]
  },
  {
   "cell_type": "markdown",
   "id": "04196b61-c47d-4975-9681-6ac2d9dc4913",
   "metadata": {},
   "source": [
    "#### Future Questions\n",
    "\n",
    "Human relationships are an incredibly complex topic to cover, and this study only investigates a small portion of the nuances behind relationships. Many aspects of this study could be improved, and these are useful questions that could be expanded on in future studies. For example, researchers may want to explore the correlation between other traits, such as income, gender, and age with matching. This would allow for an even better understanding of what people are searching for during a speed dating session, and perhaps a more accurate prediction model for whether an individual matches or not. Studies can also be conducted on the correlation between different traits, such as investigating whether one's funniness correlates with their attractiveness. "
   ]
  },
  {
   "cell_type": "markdown",
   "id": "6abbe7af-242f-4483-933d-e0d12ed93389",
   "metadata": {},
   "source": [
    "#### Conclusion\n",
    "\n",
    "There are endless opportunities to explore when it comes to human relationships, and studies of simple characteristics like the ones in the analysis above are simply an elementary exploration of what these relationships have underneath. As of now, there are still thousands of studies conducted every day, trying to deconstruct and analyze the human mind, and we may never truly fully understand what causes human attraction, but every study gives us a bit better of an understanding, and by doing so, revolutionary ideas and inventions will naturally emerge and improve our society as a whole."
   ]
  },
  {
   "cell_type": "markdown",
   "id": "b95e7ecf-960b-488b-99a4-1965175514b5",
   "metadata": {},
   "source": [
    "## References"
   ]
  },
  {
   "cell_type": "markdown",
   "id": "4f68fde9-eb22-4ac7-b533-cf1e698e9ee2",
   "metadata": {},
   "source": [
    "Gelman, A., & Hill, J. Speed Dating. Index of /gelman/arm/examples/speed.dating. Retrieved from http://www.stat.columbia.edu/~gelman/arm/examples/speed.dating/ \n",
    "\n",
    "Graff, M. (2022). Improving your chances in speed dating. Psychology Today. Retrieved from https://www.psychologytoday.com/us/blog/love-digitally/202211/improving-your-chances-in-speed-dating \n",
    "\n",
    "McNulty, K. (2020, February 14). What matters in speed dating? Medium. Retrieved from https://towardsdatascience.com/what-matters-in-speed-dating-34d29102f6cb \n",
    "\n",
    "UCLA, D. R. at. (2020, June 5). Secrets to maximizing success in the (speed) dating experience. Medium. Retrieved from https://ucladatares.medium.com/secrets-to-maximizing-success-in-the-speed-dating-experience-7f4f50c40019 "
   ]
  }
 ],
 "metadata": {
  "kernelspec": {
   "display_name": "R",
   "language": "R",
   "name": "ir"
  },
  "language_info": {
   "codemirror_mode": "r",
   "file_extension": ".r",
   "mimetype": "text/x-r-source",
   "name": "R",
   "pygments_lexer": "r",
   "version": "4.2.3"
  }
 },
 "nbformat": 4,
 "nbformat_minor": 5
}
