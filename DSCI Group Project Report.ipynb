{
 "cells": [
  {
   "cell_type": "markdown",
   "id": "521fad66-8d3d-4981-a505-9bfc30f9688a",
   "metadata": {},
   "source": [
    "# Predicting Speed Dating Success Using Various Personality Traits"
   ]
  },
  {
   "cell_type": "markdown",
   "id": "543ca6df-f0e5-4e0e-b63e-188ed4c282ba",
   "metadata": {},
   "source": [
    "## Introduction\n",
    "\n"
   ]
  },
  {
   "cell_type": "markdown",
   "id": "ebf83caf-37f9-4b73-9ad8-5f401f9e960d",
   "metadata": {},
   "source": [
    "Speed dating is a popular dating practice that involves meeting multiple potential partners in a short period of time. This practice has gained popularity in recent years due to its effectiveness in helping people find compatible partners.\n",
    "\n",
    "In this proposal, we will attempt to answer the following question: What individual characteristics are most important in predicting the success of speed dating? By analyzing data from a speed dating dataset, we will attempt to identify which factors are most strongly associated with successful matches.\n",
    "\n",
    "The dataset we use contains information from speed dating events held in different cities in the United States. It includes information on participants' demographic characteristics, such as age, education level, and ethnicity, as well as their responses to survey questions related to their personalities, interests, and dating preferences, and whether or not each individual was matched with their potential partner.\n",
    "\n"
   ]
  },
  {
   "cell_type": "markdown",
   "id": "a6343fcb-ceda-48cc-98ec-f31b8c78a0de",
   "metadata": {},
   "source": [
    "## Methods and Results"
   ]
  },
  {
   "cell_type": "markdown",
   "id": "b15a9cf2-ac77-40f8-9d13-945cef69e1bc",
   "metadata": {},
   "source": [
    "#### Importing Libraries\n",
    "\n",
    "We begin by installing and importing the required libraries for this analysis."
   ]
  },
  {
   "cell_type": "code",
   "execution_count": 2,
   "id": "1c5d422e-7bf5-45d5-98dc-fd6cd1892f24",
   "metadata": {},
   "outputs": [],
   "source": [
    "# Install packages\n",
    "# install.packages('tidyverse')\n",
    "# install.packages('tidymodels')\n",
    "# install.packages('repr')\n",
    "# install.packages('gridExtra')\n",
    "# install.packages('grid')"
   ]
  },
  {
   "cell_type": "code",
   "execution_count": 3,
   "id": "bb963640-7206-488e-9857-f109faaae43d",
   "metadata": {},
   "outputs": [
    {
     "name": "stderr",
     "output_type": "stream",
     "text": [
      "── \u001b[1mAttaching packages\u001b[22m ─────────────────────────────────────── tidyverse 1.3.1 ──\n",
      "\n",
      "\u001b[32m✔\u001b[39m \u001b[34mggplot2\u001b[39m 3.3.6     \u001b[32m✔\u001b[39m \u001b[34mpurrr  \u001b[39m 0.3.4\n",
      "\u001b[32m✔\u001b[39m \u001b[34mtibble \u001b[39m 3.1.7     \u001b[32m✔\u001b[39m \u001b[34mdplyr  \u001b[39m 1.0.9\n",
      "\u001b[32m✔\u001b[39m \u001b[34mtidyr  \u001b[39m 1.2.0     \u001b[32m✔\u001b[39m \u001b[34mstringr\u001b[39m 1.4.0\n",
      "\u001b[32m✔\u001b[39m \u001b[34mreadr  \u001b[39m 2.1.2     \u001b[32m✔\u001b[39m \u001b[34mforcats\u001b[39m 0.5.1\n",
      "\n",
      "── \u001b[1mConflicts\u001b[22m ────────────────────────────────────────── tidyverse_conflicts() ──\n",
      "\u001b[31m✖\u001b[39m \u001b[34mdplyr\u001b[39m::\u001b[32mfilter()\u001b[39m masks \u001b[34mstats\u001b[39m::filter()\n",
      "\u001b[31m✖\u001b[39m \u001b[34mdplyr\u001b[39m::\u001b[32mlag()\u001b[39m    masks \u001b[34mstats\u001b[39m::lag()\n",
      "\n",
      "── \u001b[1mAttaching packages\u001b[22m ────────────────────────────────────── tidymodels 1.0.0 ──\n",
      "\n",
      "\u001b[32m✔\u001b[39m \u001b[34mbroom       \u001b[39m 1.0.0     \u001b[32m✔\u001b[39m \u001b[34mrsample     \u001b[39m 1.0.0\n",
      "\u001b[32m✔\u001b[39m \u001b[34mdials       \u001b[39m 1.0.0     \u001b[32m✔\u001b[39m \u001b[34mtune        \u001b[39m 1.0.0\n",
      "\u001b[32m✔\u001b[39m \u001b[34minfer       \u001b[39m 1.0.2     \u001b[32m✔\u001b[39m \u001b[34mworkflows   \u001b[39m 1.0.0\n",
      "\u001b[32m✔\u001b[39m \u001b[34mmodeldata   \u001b[39m 1.0.0     \u001b[32m✔\u001b[39m \u001b[34mworkflowsets\u001b[39m 1.0.0\n",
      "\u001b[32m✔\u001b[39m \u001b[34mparsnip     \u001b[39m 1.0.0     \u001b[32m✔\u001b[39m \u001b[34myardstick   \u001b[39m 1.0.0\n",
      "\u001b[32m✔\u001b[39m \u001b[34mrecipes     \u001b[39m 1.0.1     \n",
      "\n",
      "── \u001b[1mConflicts\u001b[22m ───────────────────────────────────────── tidymodels_conflicts() ──\n",
      "\u001b[31m✖\u001b[39m \u001b[34mscales\u001b[39m::\u001b[32mdiscard()\u001b[39m masks \u001b[34mpurrr\u001b[39m::discard()\n",
      "\u001b[31m✖\u001b[39m \u001b[34mdplyr\u001b[39m::\u001b[32mfilter()\u001b[39m   masks \u001b[34mstats\u001b[39m::filter()\n",
      "\u001b[31m✖\u001b[39m \u001b[34mrecipes\u001b[39m::\u001b[32mfixed()\u001b[39m  masks \u001b[34mstringr\u001b[39m::fixed()\n",
      "\u001b[31m✖\u001b[39m \u001b[34mdplyr\u001b[39m::\u001b[32mlag()\u001b[39m      masks \u001b[34mstats\u001b[39m::lag()\n",
      "\u001b[31m✖\u001b[39m \u001b[34myardstick\u001b[39m::\u001b[32mspec()\u001b[39m masks \u001b[34mreadr\u001b[39m::spec()\n",
      "\u001b[31m✖\u001b[39m \u001b[34mrecipes\u001b[39m::\u001b[32mstep()\u001b[39m   masks \u001b[34mstats\u001b[39m::step()\n",
      "\u001b[34m•\u001b[39m Search for functions across packages at \u001b[32mhttps://www.tidymodels.org/find/\u001b[39m\n",
      "\n",
      "\n",
      "Attaching package: ‘gridExtra’\n",
      "\n",
      "\n",
      "The following object is masked from ‘package:dplyr’:\n",
      "\n",
      "    combine\n",
      "\n",
      "\n"
     ]
    }
   ],
   "source": [
    "# Importing libraries\n",
    "library(tidyverse)\n",
    "library(tidymodels)\n",
    "library(repr)\n",
    "library(gridExtra)\n",
    "library(grid)"
   ]
  },
  {
   "cell_type": "markdown",
   "id": "d774385b-6f2c-4a8e-8435-caf5ef5f8e9d",
   "metadata": {},
   "source": [
    "#### Reading the Data\n",
    "\n",
    "Using the **read_csv()** function, we read the data from the source and store it in a variable. We perform a short analysis on the data, getting information about the number of columns, rows, as well as a preview of what each observation looks like. "
   ]
  },
  {
   "cell_type": "code",
   "execution_count": 4,
   "id": "769424c1-15ba-4351-a9a2-f6ce88eb8f5c",
   "metadata": {},
   "outputs": [
    {
     "name": "stderr",
     "output_type": "stream",
     "text": [
      "\u001b[1mRows: \u001b[22m\u001b[34m8378\u001b[39m \u001b[1mColumns: \u001b[22m\u001b[34m195\u001b[39m\n",
      "\u001b[36m──\u001b[39m \u001b[1mColumn specification\u001b[22m \u001b[36m────────────────────────────────────────────────────────\u001b[39m\n",
      "\u001b[1mDelimiter:\u001b[22m \",\"\n",
      "\u001b[31mchr\u001b[39m   (4): field, undergra, from, career\n",
      "\u001b[32mdbl\u001b[39m (187): iid, id, gender, idg, condtn, wave, round, position, positin1, or...\n",
      "\n",
      "\u001b[36mℹ\u001b[39m Use `spec()` to retrieve the full column specification for this data.\n",
      "\u001b[36mℹ\u001b[39m Specify the column types or set `show_col_types = FALSE` to quiet this message.\n"
     ]
    }
   ],
   "source": [
    "# Reading the data\n",
    "speed_dating_data <- read_csv(\"http://www.stat.columbia.edu/~gelman/arm/examples/speed.dating/Speed%20Dating%20Data.csv\")\n",
    "\n",
    "# Number of Rows and Columns\n",
    "num_rows <- nrow(speed_dating_data)\n",
    "num_cols <- ncol(speed_dating_data)\n",
    "\n",
    "speed_dating_summary <- tibble(Rows = num_rows, \n",
    "                  Columns = num_cols)\n",
    "\n",
    "# Previewing the data\n",
    "speed_dating_preview <- head(speed_dating_data)"
   ]
  },
  {
   "cell_type": "code",
   "execution_count": 5,
   "id": "33d39bb5-92b3-4099-9664-defde01c571c",
   "metadata": {},
   "outputs": [
    {
     "data": {
      "text/html": [
       "<table class=\"dataframe\">\n",
       "<caption>A tibble: 1 × 2</caption>\n",
       "<thead>\n",
       "\t<tr><th scope=col>Rows</th><th scope=col>Columns</th></tr>\n",
       "\t<tr><th scope=col>&lt;int&gt;</th><th scope=col>&lt;int&gt;</th></tr>\n",
       "</thead>\n",
       "<tbody>\n",
       "\t<tr><td>8378</td><td>195</td></tr>\n",
       "</tbody>\n",
       "</table>\n"
      ],
      "text/latex": [
       "A tibble: 1 × 2\n",
       "\\begin{tabular}{ll}\n",
       " Rows & Columns\\\\\n",
       " <int> & <int>\\\\\n",
       "\\hline\n",
       "\t 8378 & 195\\\\\n",
       "\\end{tabular}\n"
      ],
      "text/markdown": [
       "\n",
       "A tibble: 1 × 2\n",
       "\n",
       "| Rows &lt;int&gt; | Columns &lt;int&gt; |\n",
       "|---|---|\n",
       "| 8378 | 195 |\n",
       "\n"
      ],
      "text/plain": [
       "  Rows Columns\n",
       "1 8378 195    "
      ]
     },
     "metadata": {},
     "output_type": "display_data"
    },
    {
     "data": {
      "text/html": [
       "<table class=\"dataframe\">\n",
       "<caption>A tibble: 6 × 195</caption>\n",
       "<thead>\n",
       "\t<tr><th scope=col>iid</th><th scope=col>id</th><th scope=col>gender</th><th scope=col>idg</th><th scope=col>condtn</th><th scope=col>wave</th><th scope=col>round</th><th scope=col>position</th><th scope=col>positin1</th><th scope=col>order</th><th scope=col>⋯</th><th scope=col>attr3_3</th><th scope=col>sinc3_3</th><th scope=col>intel3_3</th><th scope=col>fun3_3</th><th scope=col>amb3_3</th><th scope=col>attr5_3</th><th scope=col>sinc5_3</th><th scope=col>intel5_3</th><th scope=col>fun5_3</th><th scope=col>amb5_3</th></tr>\n",
       "\t<tr><th scope=col>&lt;dbl&gt;</th><th scope=col>&lt;dbl&gt;</th><th scope=col>&lt;dbl&gt;</th><th scope=col>&lt;dbl&gt;</th><th scope=col>&lt;dbl&gt;</th><th scope=col>&lt;dbl&gt;</th><th scope=col>&lt;dbl&gt;</th><th scope=col>&lt;dbl&gt;</th><th scope=col>&lt;dbl&gt;</th><th scope=col>&lt;dbl&gt;</th><th scope=col>⋯</th><th scope=col>&lt;dbl&gt;</th><th scope=col>&lt;dbl&gt;</th><th scope=col>&lt;dbl&gt;</th><th scope=col>&lt;dbl&gt;</th><th scope=col>&lt;dbl&gt;</th><th scope=col>&lt;dbl&gt;</th><th scope=col>&lt;dbl&gt;</th><th scope=col>&lt;dbl&gt;</th><th scope=col>&lt;dbl&gt;</th><th scope=col>&lt;dbl&gt;</th></tr>\n",
       "</thead>\n",
       "<tbody>\n",
       "\t<tr><td>1</td><td>1</td><td>0</td><td>1</td><td>1</td><td>1</td><td>10</td><td>7</td><td>NA</td><td> 4</td><td>⋯</td><td>5</td><td>7</td><td>7</td><td>7</td><td>7</td><td>NA</td><td>NA</td><td>NA</td><td>NA</td><td>NA</td></tr>\n",
       "\t<tr><td>1</td><td>1</td><td>0</td><td>1</td><td>1</td><td>1</td><td>10</td><td>7</td><td>NA</td><td> 3</td><td>⋯</td><td>5</td><td>7</td><td>7</td><td>7</td><td>7</td><td>NA</td><td>NA</td><td>NA</td><td>NA</td><td>NA</td></tr>\n",
       "\t<tr><td>1</td><td>1</td><td>0</td><td>1</td><td>1</td><td>1</td><td>10</td><td>7</td><td>NA</td><td>10</td><td>⋯</td><td>5</td><td>7</td><td>7</td><td>7</td><td>7</td><td>NA</td><td>NA</td><td>NA</td><td>NA</td><td>NA</td></tr>\n",
       "\t<tr><td>1</td><td>1</td><td>0</td><td>1</td><td>1</td><td>1</td><td>10</td><td>7</td><td>NA</td><td> 5</td><td>⋯</td><td>5</td><td>7</td><td>7</td><td>7</td><td>7</td><td>NA</td><td>NA</td><td>NA</td><td>NA</td><td>NA</td></tr>\n",
       "\t<tr><td>1</td><td>1</td><td>0</td><td>1</td><td>1</td><td>1</td><td>10</td><td>7</td><td>NA</td><td> 7</td><td>⋯</td><td>5</td><td>7</td><td>7</td><td>7</td><td>7</td><td>NA</td><td>NA</td><td>NA</td><td>NA</td><td>NA</td></tr>\n",
       "\t<tr><td>1</td><td>1</td><td>0</td><td>1</td><td>1</td><td>1</td><td>10</td><td>7</td><td>NA</td><td> 6</td><td>⋯</td><td>5</td><td>7</td><td>7</td><td>7</td><td>7</td><td>NA</td><td>NA</td><td>NA</td><td>NA</td><td>NA</td></tr>\n",
       "</tbody>\n",
       "</table>\n"
      ],
      "text/latex": [
       "A tibble: 6 × 195\n",
       "\\begin{tabular}{lllllllllllllllllllll}\n",
       " iid & id & gender & idg & condtn & wave & round & position & positin1 & order & ⋯ & attr3\\_3 & sinc3\\_3 & intel3\\_3 & fun3\\_3 & amb3\\_3 & attr5\\_3 & sinc5\\_3 & intel5\\_3 & fun5\\_3 & amb5\\_3\\\\\n",
       " <dbl> & <dbl> & <dbl> & <dbl> & <dbl> & <dbl> & <dbl> & <dbl> & <dbl> & <dbl> & ⋯ & <dbl> & <dbl> & <dbl> & <dbl> & <dbl> & <dbl> & <dbl> & <dbl> & <dbl> & <dbl>\\\\\n",
       "\\hline\n",
       "\t 1 & 1 & 0 & 1 & 1 & 1 & 10 & 7 & NA &  4 & ⋯ & 5 & 7 & 7 & 7 & 7 & NA & NA & NA & NA & NA\\\\\n",
       "\t 1 & 1 & 0 & 1 & 1 & 1 & 10 & 7 & NA &  3 & ⋯ & 5 & 7 & 7 & 7 & 7 & NA & NA & NA & NA & NA\\\\\n",
       "\t 1 & 1 & 0 & 1 & 1 & 1 & 10 & 7 & NA & 10 & ⋯ & 5 & 7 & 7 & 7 & 7 & NA & NA & NA & NA & NA\\\\\n",
       "\t 1 & 1 & 0 & 1 & 1 & 1 & 10 & 7 & NA &  5 & ⋯ & 5 & 7 & 7 & 7 & 7 & NA & NA & NA & NA & NA\\\\\n",
       "\t 1 & 1 & 0 & 1 & 1 & 1 & 10 & 7 & NA &  7 & ⋯ & 5 & 7 & 7 & 7 & 7 & NA & NA & NA & NA & NA\\\\\n",
       "\t 1 & 1 & 0 & 1 & 1 & 1 & 10 & 7 & NA &  6 & ⋯ & 5 & 7 & 7 & 7 & 7 & NA & NA & NA & NA & NA\\\\\n",
       "\\end{tabular}\n"
      ],
      "text/markdown": [
       "\n",
       "A tibble: 6 × 195\n",
       "\n",
       "| iid &lt;dbl&gt; | id &lt;dbl&gt; | gender &lt;dbl&gt; | idg &lt;dbl&gt; | condtn &lt;dbl&gt; | wave &lt;dbl&gt; | round &lt;dbl&gt; | position &lt;dbl&gt; | positin1 &lt;dbl&gt; | order &lt;dbl&gt; | ⋯ ⋯ | attr3_3 &lt;dbl&gt; | sinc3_3 &lt;dbl&gt; | intel3_3 &lt;dbl&gt; | fun3_3 &lt;dbl&gt; | amb3_3 &lt;dbl&gt; | attr5_3 &lt;dbl&gt; | sinc5_3 &lt;dbl&gt; | intel5_3 &lt;dbl&gt; | fun5_3 &lt;dbl&gt; | amb5_3 &lt;dbl&gt; |\n",
       "|---|---|---|---|---|---|---|---|---|---|---|---|---|---|---|---|---|---|---|---|---|\n",
       "| 1 | 1 | 0 | 1 | 1 | 1 | 10 | 7 | NA |  4 | ⋯ | 5 | 7 | 7 | 7 | 7 | NA | NA | NA | NA | NA |\n",
       "| 1 | 1 | 0 | 1 | 1 | 1 | 10 | 7 | NA |  3 | ⋯ | 5 | 7 | 7 | 7 | 7 | NA | NA | NA | NA | NA |\n",
       "| 1 | 1 | 0 | 1 | 1 | 1 | 10 | 7 | NA | 10 | ⋯ | 5 | 7 | 7 | 7 | 7 | NA | NA | NA | NA | NA |\n",
       "| 1 | 1 | 0 | 1 | 1 | 1 | 10 | 7 | NA |  5 | ⋯ | 5 | 7 | 7 | 7 | 7 | NA | NA | NA | NA | NA |\n",
       "| 1 | 1 | 0 | 1 | 1 | 1 | 10 | 7 | NA |  7 | ⋯ | 5 | 7 | 7 | 7 | 7 | NA | NA | NA | NA | NA |\n",
       "| 1 | 1 | 0 | 1 | 1 | 1 | 10 | 7 | NA |  6 | ⋯ | 5 | 7 | 7 | 7 | 7 | NA | NA | NA | NA | NA |\n",
       "\n"
      ],
      "text/plain": [
       "  iid id gender idg condtn wave round position positin1 order ⋯ attr3_3 sinc3_3\n",
       "1 1   1  0      1   1      1    10    7        NA        4    ⋯ 5       7      \n",
       "2 1   1  0      1   1      1    10    7        NA        3    ⋯ 5       7      \n",
       "3 1   1  0      1   1      1    10    7        NA       10    ⋯ 5       7      \n",
       "4 1   1  0      1   1      1    10    7        NA        5    ⋯ 5       7      \n",
       "5 1   1  0      1   1      1    10    7        NA        7    ⋯ 5       7      \n",
       "6 1   1  0      1   1      1    10    7        NA        6    ⋯ 5       7      \n",
       "  intel3_3 fun3_3 amb3_3 attr5_3 sinc5_3 intel5_3 fun5_3 amb5_3\n",
       "1 7        7      7      NA      NA      NA       NA     NA    \n",
       "2 7        7      7      NA      NA      NA       NA     NA    \n",
       "3 7        7      7      NA      NA      NA       NA     NA    \n",
       "4 7        7      7      NA      NA      NA       NA     NA    \n",
       "5 7        7      7      NA      NA      NA       NA     NA    \n",
       "6 7        7      7      NA      NA      NA       NA     NA    "
      ]
     },
     "metadata": {},
     "output_type": "display_data"
    }
   ],
   "source": [
    "speed_dating_summary\n",
    "speed_dating_preview"
   ]
  },
  {
   "cell_type": "markdown",
   "id": "be3484f2-bfba-42e7-917a-da806dc2424e",
   "metadata": {},
   "source": [
    "#### Summary Discussion\n",
    "\n",
    "[link]: http://www.stat.columbia.edu/~gelman/arm/examples/speed.dating/Speed%20Dating%20Data%20Key.doc\n",
    "\n",
    "From the speed dating dataset's [legend][link], we know there are many variables that are not useful in answering our research question, such as the individual's event ID, or the zipcode of where the individual was raised. There are many variables which do not use numerical values as well, such as the individual's career or field of study. Using 195 predictors would also be very computationally expensive, so we decided to choose 5 predictors: attractiveness, sincerity, intelligence, funniness, and ambition. We chose these variables because they can be numerically rated, and are commonly discussed traits regarding relationships, and therefore would be variables to use to predict whether an individual would match with their partner or not."
   ]
  },
  {
   "cell_type": "markdown",
   "id": "dd8a86c7-06d7-4610-9d04-0372629d3269",
   "metadata": {},
   "source": [
    "#### Tidying the Data\n",
    "\n",
    "Our next step was to tidy the data into a state where we could easily use it to create our predictive model. We began by selecting the desired columns, and filtering out improper observations that could create future difficulties (N/A values, values that went by a different scale, etc.)."
   ]
  },
  {
   "cell_type": "code",
   "execution_count": 6,
   "id": "5bdd5b5a-4a48-44de-82f1-6769c2ea0a70",
   "metadata": {},
   "outputs": [
    {
     "name": "stderr",
     "output_type": "stream",
     "text": [
      "Warning message in wave != 6:9:\n",
      "“longer object length is not a multiple of shorter object length”\n"
     ]
    },
    {
     "data": {
      "text/html": [
       "<table class=\"dataframe\">\n",
       "<caption>A tibble: 6 × 7</caption>\n",
       "<thead>\n",
       "\t<tr><th scope=col>Match</th><th scope=col>Gender</th><th scope=col>Attractiveness</th><th scope=col>Sincerity</th><th scope=col>Intelligence</th><th scope=col>Funniness</th><th scope=col>Ambition</th></tr>\n",
       "\t<tr><th scope=col>&lt;fct&gt;</th><th scope=col>&lt;fct&gt;</th><th scope=col>&lt;dbl&gt;</th><th scope=col>&lt;dbl&gt;</th><th scope=col>&lt;dbl&gt;</th><th scope=col>&lt;dbl&gt;</th><th scope=col>&lt;dbl&gt;</th></tr>\n",
       "</thead>\n",
       "<tbody>\n",
       "\t<tr><td>no </td><td>female</td><td> 6</td><td> 8</td><td> 8</td><td> 8</td><td> 8</td></tr>\n",
       "\t<tr><td>no </td><td>female</td><td> 7</td><td> 8</td><td>10</td><td> 7</td><td> 7</td></tr>\n",
       "\t<tr><td>yes</td><td>female</td><td>10</td><td>10</td><td>10</td><td>10</td><td>10</td></tr>\n",
       "\t<tr><td>yes</td><td>female</td><td> 7</td><td> 8</td><td> 9</td><td> 8</td><td> 9</td></tr>\n",
       "\t<tr><td>yes</td><td>female</td><td> 8</td><td> 7</td><td> 9</td><td> 6</td><td> 9</td></tr>\n",
       "\t<tr><td>no </td><td>female</td><td> 7</td><td> 7</td><td> 8</td><td> 8</td><td> 7</td></tr>\n",
       "</tbody>\n",
       "</table>\n"
      ],
      "text/latex": [
       "A tibble: 6 × 7\n",
       "\\begin{tabular}{lllllll}\n",
       " Match & Gender & Attractiveness & Sincerity & Intelligence & Funniness & Ambition\\\\\n",
       " <fct> & <fct> & <dbl> & <dbl> & <dbl> & <dbl> & <dbl>\\\\\n",
       "\\hline\n",
       "\t no  & female &  6 &  8 &  8 &  8 &  8\\\\\n",
       "\t no  & female &  7 &  8 & 10 &  7 &  7\\\\\n",
       "\t yes & female & 10 & 10 & 10 & 10 & 10\\\\\n",
       "\t yes & female &  7 &  8 &  9 &  8 &  9\\\\\n",
       "\t yes & female &  8 &  7 &  9 &  6 &  9\\\\\n",
       "\t no  & female &  7 &  7 &  8 &  8 &  7\\\\\n",
       "\\end{tabular}\n"
      ],
      "text/markdown": [
       "\n",
       "A tibble: 6 × 7\n",
       "\n",
       "| Match &lt;fct&gt; | Gender &lt;fct&gt; | Attractiveness &lt;dbl&gt; | Sincerity &lt;dbl&gt; | Intelligence &lt;dbl&gt; | Funniness &lt;dbl&gt; | Ambition &lt;dbl&gt; |\n",
       "|---|---|---|---|---|---|---|\n",
       "| no  | female |  6 |  8 |  8 |  8 |  8 |\n",
       "| no  | female |  7 |  8 | 10 |  7 |  7 |\n",
       "| yes | female | 10 | 10 | 10 | 10 | 10 |\n",
       "| yes | female |  7 |  8 |  9 |  8 |  9 |\n",
       "| yes | female |  8 |  7 |  9 |  6 |  9 |\n",
       "| no  | female |  7 |  7 |  8 |  8 |  7 |\n",
       "\n"
      ],
      "text/plain": [
       "  Match Gender Attractiveness Sincerity Intelligence Funniness Ambition\n",
       "1 no    female  6              8         8            8         8      \n",
       "2 no    female  7              8        10            7         7      \n",
       "3 yes   female 10             10        10           10        10      \n",
       "4 yes   female  7              8         9            8         9      \n",
       "5 yes   female  8              7         9            6         9      \n",
       "6 no    female  7              7         8            8         7      "
      ]
     },
     "metadata": {},
     "output_type": "display_data"
    }
   ],
   "source": [
    "# Selecting desired rows\n",
    "speed_dating_select <- speed_dating_data |>\n",
    "    filter(wave != 6:9) |> # These waves had a different rating system for traits\n",
    "    mutate(match = as_factor(match),\n",
    "           gender = as_factor(gender)) |>\n",
    "    select(match, gender, attr_o, sinc_o, intel_o, fun_o, amb_o)\n",
    "\n",
    "# Filtering the data of improper observations\n",
    "speed_dating_tidy <- speed_dating_select |>\n",
    "    filter(attr_o %% 1 == 0,\n",
    "          sinc_o %% 1 == 0,\n",
    "          intel_o %% 1 == 0,\n",
    "          fun_o %% 1 == 0,\n",
    "          amb_o %% 1 == 0, \n",
    "          fun_o <= 10)\n",
    "\n",
    "# Renaming categorical values\n",
    "levels(speed_dating_tidy$gender)[2] <- \"male\"\n",
    "levels(speed_dating_tidy$gender)[1] <- \"female\"\n",
    "levels(speed_dating_tidy$match)[2] <- \"yes\"\n",
    "levels(speed_dating_tidy$match)[1] <- \"no\"\n",
    "\n",
    "# Renaming columns\n",
    "colnames(speed_dating_tidy) <- c(\"Match\", \"Gender\", \"Attractiveness\", \"Sincerity\", \"Intelligence\", \"Funniness\", \"Ambition\")\n",
    "\n",
    "# Preview of tidied dataset\n",
    "head(speed_dating_tidy)"
   ]
  },
  {
   "cell_type": "markdown",
   "id": "80d5c53a-f913-429a-bc6f-d85d49dc5e61",
   "metadata": {},
   "source": [
    "#### Column Legend\n",
    "- **Match**: Whether or not the individual matched with their partner\n",
    "- **Gender**: Gender of the individual\n",
    "- **Attractiveness - Funniness**: How the individual was rated by their partner in each trait"
   ]
  },
  {
   "cell_type": "markdown",
   "id": "32b0a523-d324-46ed-b849-ce77bb45e40d",
   "metadata": {},
   "source": [
    "#### Variable Importance\n",
    "\n",
    "Before we create our model, we will perform another analysis of the data, this time seeing which traits have the highest correlation with matching with their partner. We will do this by grouping the data by whether the observation matched or not, finding the means of each groups traits, then finding the difference between the two groups' means. A larger difference will imply a stronger correlation between the trait and whether or not the individual matches, while a smaller difference implies a weaker correlation. "
   ]
  },
  {
   "cell_type": "code",
   "execution_count": 14,
   "id": "62e93ae7-42f9-431c-aaec-41b5fcf6a7da",
   "metadata": {},
   "outputs": [
    {
     "name": "stderr",
     "output_type": "stream",
     "text": [
      "\u001b[1m\u001b[22m`summarise()` has grouped output by 'Gender'. You can override using the\n",
      "`.groups` argument.\n"
     ]
    },
    {
     "data": {
      "text/html": [
       "<table class=\"dataframe\">\n",
       "<caption>A tibble: 2 × 6</caption>\n",
       "<thead>\n",
       "\t<tr><th scope=col>Gender</th><th scope=col>Attract_Diff</th><th scope=col>Sincere_Diff</th><th scope=col>Intel_Diff</th><th scope=col>Funny_Diff</th><th scope=col>Ambition_Diff</th></tr>\n",
       "\t<tr><th scope=col>&lt;chr&gt;</th><th scope=col>&lt;dbl&gt;</th><th scope=col>&lt;dbl&gt;</th><th scope=col>&lt;dbl&gt;</th><th scope=col>&lt;dbl&gt;</th><th scope=col>&lt;dbl&gt;</th></tr>\n",
       "</thead>\n",
       "<tbody>\n",
       "\t<tr><td>Female</td><td>1.341803</td><td>0.7043362</td><td>0.6866242</td><td>1.282081</td><td>0.7110397</td></tr>\n",
       "\t<tr><td>Male  </td><td>1.436137</td><td>0.8582535</td><td>0.7644241</td><td>1.650429</td><td>0.6583940</td></tr>\n",
       "</tbody>\n",
       "</table>\n"
      ],
      "text/latex": [
       "A tibble: 2 × 6\n",
       "\\begin{tabular}{llllll}\n",
       " Gender & Attract\\_Diff & Sincere\\_Diff & Intel\\_Diff & Funny\\_Diff & Ambition\\_Diff\\\\\n",
       " <chr> & <dbl> & <dbl> & <dbl> & <dbl> & <dbl>\\\\\n",
       "\\hline\n",
       "\t Female & 1.341803 & 0.7043362 & 0.6866242 & 1.282081 & 0.7110397\\\\\n",
       "\t Male   & 1.436137 & 0.8582535 & 0.7644241 & 1.650429 & 0.6583940\\\\\n",
       "\\end{tabular}\n"
      ],
      "text/markdown": [
       "\n",
       "A tibble: 2 × 6\n",
       "\n",
       "| Gender &lt;chr&gt; | Attract_Diff &lt;dbl&gt; | Sincere_Diff &lt;dbl&gt; | Intel_Diff &lt;dbl&gt; | Funny_Diff &lt;dbl&gt; | Ambition_Diff &lt;dbl&gt; |\n",
       "|---|---|---|---|---|---|\n",
       "| Female | 1.341803 | 0.7043362 | 0.6866242 | 1.282081 | 0.7110397 |\n",
       "| Male   | 1.436137 | 0.8582535 | 0.7644241 | 1.650429 | 0.6583940 |\n",
       "\n"
      ],
      "text/plain": [
       "  Gender Attract_Diff Sincere_Diff Intel_Diff Funny_Diff Ambition_Diff\n",
       "1 Female 1.341803     0.7043362    0.6866242  1.282081   0.7110397    \n",
       "2 Male   1.436137     0.8582535    0.7644241  1.650429   0.6583940    "
      ]
     },
     "metadata": {},
     "output_type": "display_data"
    }
   ],
   "source": [
    "# Taking means of each trait\n",
    "speed_dating_means <- speed_dating_tidy |>\n",
    "    group_by(Gender, Match) |>\n",
    "    summarize(Mean_Attractiveness = mean(Attractiveness),\n",
    "              Mean_Sincerity = mean(Sincerity),\n",
    "              Mean_Intelligence = mean(Intelligence),\n",
    "              Mean_Funniness = mean(Funniness),\n",
    "              Mean_Ambition = mean(Ambition))\n",
    "\n",
    "# Means of observations that matched\n",
    "speed_dating_yes <- speed_dating_means |>\n",
    "    slice(1) |>\n",
    "    ungroup() |>\n",
    "    select(-Match, -Gender) \n",
    "\n",
    "# Means of observations that did not match\n",
    "speed_dating_no <- speed_dating_means |>\n",
    "    slice(2) |>\n",
    "    ungroup() |>\n",
    "    select(-Match, -Gender)\n",
    "\n",
    "# Taking the difference of \"yes\" and \"no\" means\n",
    "speed_dating_diffs <- abs(speed_dating_yes - speed_dating_no)\n",
    "\n",
    "# Renaming columns\n",
    "colnames(speed_dating_diffs) <- c(\"Attract_Diff\", \"Sincere_Diff\", \"Intel_Diff\", \"Funny_Diff\", \"Ambition_Diff\")\n",
    "\n",
    "# Rebinding to gender column\n",
    "gender_cols <- tibble(Gender = c(\"Female\", \"Male\"))\n",
    "gender_diffs <- bind_cols(gender_cols, speed_dating_diffs)\n",
    "\n",
    "gender_diffs"
   ]
  },
  {
   "cell_type": "markdown",
   "id": "c643ca86-5cfd-40bd-8bd5-689fa4f21c63",
   "metadata": {},
   "source": [
    "#### Variable Discussion\n",
    "\n",
    "From the table above, we observe that attractiveness and funniness have a significantly stronger correlation with getting a match than the other traits. Therefore, we will create a model which only uses attractiveness and funniness as predictors, as they will most likely result in a more accurate predictive model. "
   ]
  },
  {
   "cell_type": "markdown",
   "id": "51781533-92f3-4455-85cd-3b09bcde4a8b",
   "metadata": {},
   "source": [
    "#### Creating the Classification Model\n",
    "\n",
    "TODO"
   ]
  },
  {
   "cell_type": "markdown",
   "id": "93c564b9-365f-41be-959a-4b884fad9c17",
   "metadata": {},
   "source": [
    "## Discussion\n",
    "\n",
    "## Summarize what you found\n",
    "\n",
    "This project allows us to see which variables that correspond to the individuals traits that have a strong relation to how a couple get matched in speed dating.\n",
    "\n",
    "## Discuss whether this is what you expected to find?\n",
    "\n",
    "Yes, there are some things that we expected to find. We were expecting variables that are prominent in first impression of a person during speed dating tend to have a stronger relation with how likely the couple get matched than variables that require a deeper understanding of someone.\n",
    "\n",
    "## Discuss what impact could such findings have?\n",
    "\n",
    "The project has a potential to help researchers that focus on human relationship to understand which human characters or traits that determine the success rate couple of getting matched in speed dating. This project could be a helpful tool to identify human nature in speed dating. Moreover, this project also gives contribution in the data science field especially K-NN Regression.\n",
    "\n",
    "## Discuss what future questions could this lead to?\n",
    "\n",
    "\n"
   ]
  },
  {
   "cell_type": "markdown",
   "id": "b95e7ecf-960b-488b-99a4-1965175514b5",
   "metadata": {},
   "source": [
    "## References"
   ]
  },
  {
   "cell_type": "code",
   "execution_count": null,
   "id": "713c2138-4a57-4d89-90b8-3bc1596efdaa",
   "metadata": {},
   "outputs": [],
   "source": []
  }
 ],
 "metadata": {
  "kernelspec": {
   "display_name": "R",
   "language": "R",
   "name": "ir"
  },
  "language_info": {
   "codemirror_mode": "r",
   "file_extension": ".r",
   "mimetype": "text/x-r-source",
   "name": "R",
   "pygments_lexer": "r",
   "version": "4.2.3"
  }
 },
 "nbformat": 4,
 "nbformat_minor": 5
}
