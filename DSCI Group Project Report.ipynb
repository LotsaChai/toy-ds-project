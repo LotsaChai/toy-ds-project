{
 "cells": [
  {
   "cell_type": "markdown",
   "id": "521fad66-8d3d-4981-a505-9bfc30f9688a",
   "metadata": {},
   "source": [
    "# Predicting Speed Dating Success Using Various Personality Traits"
   ]
  },
  {
   "cell_type": "markdown",
   "id": "543ca6df-f0e5-4e0e-b63e-188ed4c282ba",
   "metadata": {},
   "source": [
    "## Introduction\n",
    "\n"
   ]
  },
  {
   "cell_type": "markdown",
   "id": "ebf83caf-37f9-4b73-9ad8-5f401f9e960d",
   "metadata": {},
   "source": [
    "Speed dating is a popular dating practice that involves meeting multiple potential partners in a short period of time. This practice has gained popularity in recent years due to its effectiveness in helping people find compatible partners.\n",
    "\n",
    "In this proposal, we will attempt to answer the following question: What individual characteristics are most important in predicting the success of speed dating? By analyzing data from a speed dating dataset, we will attempt to identify which factors are most strongly associated with successful matches.\n",
    "\n",
    "The dataset we use contains information from speed dating events held in different cities in the United States. It includes information on participants' demographic characteristics, such as age, education level, and ethnicity, as well as their responses to survey questions related to their personalities, interests, and dating preferences, and whether or not each individual was matched with their potential partner.\n",
    "\n"
   ]
  },
  {
   "cell_type": "markdown",
   "id": "a6343fcb-ceda-48cc-98ec-f31b8c78a0de",
   "metadata": {},
   "source": [
    "## Methods and Results"
   ]
  },
  {
   "cell_type": "markdown",
   "id": "b15a9cf2-ac77-40f8-9d13-945cef69e1bc",
   "metadata": {},
   "source": [
    "#### 1. Importing Libraries\n",
    "\n",
    "We begin by installing and importing the required libraries for this analysis."
   ]
  },
  {
   "cell_type": "code",
   "execution_count": 1,
   "id": "1c5d422e-7bf5-45d5-98dc-fd6cd1892f24",
   "metadata": {},
   "outputs": [
    {
     "name": "stderr",
     "output_type": "stream",
     "text": [
      "Updating HTML index of packages in '.Library'\n",
      "\n",
      "Making 'packages.html' ...\n",
      " done\n",
      "\n"
     ]
    }
   ],
   "source": [
    "# Install packages\n",
    "# install.packages('tidyverse')\n",
    "# install.packages('tidymodels')\n",
    "# install.packages('repr')\n",
    "# install.packages(\"cli\")\n",
    "# install.packages('gridExtra')\n",
    "# install.packages('grid')\n",
    "install.packages('kknn')"
   ]
  },
  {
   "cell_type": "code",
   "execution_count": 2,
   "id": "bb963640-7206-488e-9857-f109faaae43d",
   "metadata": {},
   "outputs": [
    {
     "name": "stderr",
     "output_type": "stream",
     "text": [
      "── \u001b[1mAttaching packages\u001b[22m ─────────────────────────────────────── tidyverse 1.3.1 ──\n",
      "\n",
      "\u001b[32m✔\u001b[39m \u001b[34mggplot2\u001b[39m 3.3.6     \u001b[32m✔\u001b[39m \u001b[34mpurrr  \u001b[39m 0.3.4\n",
      "\u001b[32m✔\u001b[39m \u001b[34mtibble \u001b[39m 3.1.8     \u001b[32m✔\u001b[39m \u001b[34mdplyr  \u001b[39m 1.0.9\n",
      "\u001b[32m✔\u001b[39m \u001b[34mtidyr  \u001b[39m 1.2.0     \u001b[32m✔\u001b[39m \u001b[34mstringr\u001b[39m 1.4.0\n",
      "\u001b[32m✔\u001b[39m \u001b[34mreadr  \u001b[39m 2.1.2     \u001b[32m✔\u001b[39m \u001b[34mforcats\u001b[39m 0.5.1\n",
      "\n",
      "Warning message:\n",
      "“package ‘ggplot2’ was built under R version 4.1.3”\n",
      "Warning message:\n",
      "“package ‘tidyr’ was built under R version 4.1.2”\n",
      "Warning message:\n",
      "“package ‘readr’ was built under R version 4.1.2”\n",
      "Warning message:\n",
      "“package ‘dplyr’ was built under R version 4.1.3”\n",
      "── \u001b[1mConflicts\u001b[22m ────────────────────────────────────────── tidyverse_conflicts() ──\n",
      "\u001b[31m✖\u001b[39m \u001b[34mdplyr\u001b[39m::\u001b[32mfilter()\u001b[39m masks \u001b[34mstats\u001b[39m::filter()\n",
      "\u001b[31m✖\u001b[39m \u001b[34mdplyr\u001b[39m::\u001b[32mlag()\u001b[39m    masks \u001b[34mstats\u001b[39m::lag()\n",
      "\n",
      "── \u001b[1mAttaching packages\u001b[22m ────────────────────────────────────── tidymodels 1.0.0 ──\n",
      "\n",
      "\u001b[32m✔\u001b[39m \u001b[34mbroom       \u001b[39m 1.0.0     \u001b[32m✔\u001b[39m \u001b[34mrsample     \u001b[39m 1.0.0\n",
      "\u001b[32m✔\u001b[39m \u001b[34mdials       \u001b[39m 1.0.0     \u001b[32m✔\u001b[39m \u001b[34mtune        \u001b[39m 1.0.0\n",
      "\u001b[32m✔\u001b[39m \u001b[34minfer       \u001b[39m 1.0.2     \u001b[32m✔\u001b[39m \u001b[34mworkflows   \u001b[39m 1.0.0\n",
      "\u001b[32m✔\u001b[39m \u001b[34mmodeldata   \u001b[39m 1.0.0     \u001b[32m✔\u001b[39m \u001b[34mworkflowsets\u001b[39m 1.0.0\n",
      "\u001b[32m✔\u001b[39m \u001b[34mparsnip     \u001b[39m 1.0.0     \u001b[32m✔\u001b[39m \u001b[34myardstick   \u001b[39m 1.0.0\n",
      "\u001b[32m✔\u001b[39m \u001b[34mrecipes     \u001b[39m 1.0.1     \n",
      "\n",
      "Warning message:\n",
      "“package ‘broom’ was built under R version 4.1.3”\n",
      "Warning message:\n",
      "“package ‘dials’ was built under R version 4.1.3”\n",
      "Warning message:\n",
      "“package ‘scales’ was built under R version 4.1.3”\n",
      "Warning message:\n",
      "“package ‘infer’ was built under R version 4.1.3”\n",
      "Warning message:\n",
      "“package ‘modeldata’ was built under R version 4.1.3”\n",
      "Warning message:\n",
      "“package ‘parsnip’ was built under R version 4.1.3”\n",
      "Warning message:\n",
      "“package ‘recipes’ was built under R version 4.1.3”\n",
      "Warning message:\n",
      "“package ‘rsample’ was built under R version 4.1.3”\n",
      "Warning message:\n",
      "“package ‘tune’ was built under R version 4.1.3”\n",
      "Warning message:\n",
      "“package ‘workflows’ was built under R version 4.1.3”\n",
      "Warning message:\n",
      "“package ‘workflowsets’ was built under R version 4.1.3”\n",
      "Warning message:\n",
      "“package ‘yardstick’ was built under R version 4.1.3”\n",
      "── \u001b[1mConflicts\u001b[22m ───────────────────────────────────────── tidymodels_conflicts() ──\n",
      "\u001b[31m✖\u001b[39m \u001b[34mscales\u001b[39m::\u001b[32mdiscard()\u001b[39m masks \u001b[34mpurrr\u001b[39m::discard()\n",
      "\u001b[31m✖\u001b[39m \u001b[34mdplyr\u001b[39m::\u001b[32mfilter()\u001b[39m   masks \u001b[34mstats\u001b[39m::filter()\n",
      "\u001b[31m✖\u001b[39m \u001b[34mrecipes\u001b[39m::\u001b[32mfixed()\u001b[39m  masks \u001b[34mstringr\u001b[39m::fixed()\n",
      "\u001b[31m✖\u001b[39m \u001b[34mdplyr\u001b[39m::\u001b[32mlag()\u001b[39m      masks \u001b[34mstats\u001b[39m::lag()\n",
      "\u001b[31m✖\u001b[39m \u001b[34myardstick\u001b[39m::\u001b[32mspec()\u001b[39m masks \u001b[34mreadr\u001b[39m::spec()\n",
      "\u001b[31m✖\u001b[39m \u001b[34mrecipes\u001b[39m::\u001b[32mstep()\u001b[39m   masks \u001b[34mstats\u001b[39m::step()\n",
      "\u001b[34m•\u001b[39m Use suppressPackageStartupMessages() to eliminate package startup messages\n",
      "\n",
      "\n",
      "Attaching package: ‘gridExtra’\n",
      "\n",
      "\n",
      "The following object is masked from ‘package:dplyr’:\n",
      "\n",
      "    combine\n",
      "\n",
      "\n"
     ]
    }
   ],
   "source": [
    "# Importing libraries\n",
    "library(tidyverse)\n",
    "library(tidymodels)\n",
    "library(repr)\n",
    "library(gridExtra)\n",
    "library(grid)\n",
    "library(kknn)"
   ]
  },
  {
   "cell_type": "markdown",
   "id": "d774385b-6f2c-4a8e-8435-caf5ef5f8e9d",
   "metadata": {},
   "source": [
    "#### 2. Reading the Data\n",
    "\n",
    "Using the **read_csv()** function, we read the data from the source and store it in a variable. We perform a short analysis on the data, getting information about the number of columns, rows, as well as a preview of what each observation looks like. "
   ]
  },
  {
   "cell_type": "code",
   "execution_count": 3,
   "id": "769424c1-15ba-4351-a9a2-f6ce88eb8f5c",
   "metadata": {},
   "outputs": [
    {
     "name": "stderr",
     "output_type": "stream",
     "text": [
      "\u001b[1mRows: \u001b[22m\u001b[34m8378\u001b[39m \u001b[1mColumns: \u001b[22m\u001b[34m195\u001b[39m\n",
      "\u001b[36m──\u001b[39m \u001b[1mColumn specification\u001b[22m \u001b[36m────────────────────────────────────────────────────────\u001b[39m\n",
      "\u001b[1mDelimiter:\u001b[22m \",\"\n",
      "\u001b[31mchr\u001b[39m   (4): field, undergra, from, career\n",
      "\u001b[32mdbl\u001b[39m (187): iid, id, gender, idg, condtn, wave, round, position, positin1, or...\n",
      "\n",
      "\u001b[36mℹ\u001b[39m Use `spec()` to retrieve the full column specification for this data.\n",
      "\u001b[36mℹ\u001b[39m Specify the column types or set `show_col_types = FALSE` to quiet this message.\n"
     ]
    }
   ],
   "source": [
    "# Reading the data\n",
    "speed_dating_data <- read_csv(\"http://www.stat.columbia.edu/~gelman/arm/examples/speed.dating/Speed%20Dating%20Data.csv\")\n",
    "\n",
    "# Number of Rows and Columns\n",
    "num_rows <- nrow(speed_dating_data)\n",
    "num_cols <- ncol(speed_dating_data)\n",
    "\n",
    "speed_dating_summary <- tibble(Rows = num_rows, \n",
    "                  Columns = num_cols)\n",
    "\n",
    "# Previewing the data\n",
    "speed_dating_preview <- head(speed_dating_data)"
   ]
  },
  {
   "cell_type": "code",
   "execution_count": 4,
   "id": "33d39bb5-92b3-4099-9664-defde01c571c",
   "metadata": {},
   "outputs": [
    {
     "data": {
      "text/html": [
       "<table class=\"dataframe\">\n",
       "<caption>A tibble: 1 × 2</caption>\n",
       "<thead>\n",
       "\t<tr><th scope=col>Rows</th><th scope=col>Columns</th></tr>\n",
       "\t<tr><th scope=col>&lt;int&gt;</th><th scope=col>&lt;int&gt;</th></tr>\n",
       "</thead>\n",
       "<tbody>\n",
       "\t<tr><td>8378</td><td>195</td></tr>\n",
       "</tbody>\n",
       "</table>\n"
      ],
      "text/latex": [
       "A tibble: 1 × 2\n",
       "\\begin{tabular}{ll}\n",
       " Rows & Columns\\\\\n",
       " <int> & <int>\\\\\n",
       "\\hline\n",
       "\t 8378 & 195\\\\\n",
       "\\end{tabular}\n"
      ],
      "text/markdown": [
       "\n",
       "A tibble: 1 × 2\n",
       "\n",
       "| Rows &lt;int&gt; | Columns &lt;int&gt; |\n",
       "|---|---|\n",
       "| 8378 | 195 |\n",
       "\n"
      ],
      "text/plain": [
       "  Rows Columns\n",
       "1 8378 195    "
      ]
     },
     "metadata": {},
     "output_type": "display_data"
    },
    {
     "data": {
      "text/html": [
       "<table class=\"dataframe\">\n",
       "<caption>A tibble: 6 × 195</caption>\n",
       "<thead>\n",
       "\t<tr><th scope=col>iid</th><th scope=col>id</th><th scope=col>gender</th><th scope=col>idg</th><th scope=col>condtn</th><th scope=col>wave</th><th scope=col>round</th><th scope=col>position</th><th scope=col>positin1</th><th scope=col>order</th><th scope=col>⋯</th><th scope=col>attr3_3</th><th scope=col>sinc3_3</th><th scope=col>intel3_3</th><th scope=col>fun3_3</th><th scope=col>amb3_3</th><th scope=col>attr5_3</th><th scope=col>sinc5_3</th><th scope=col>intel5_3</th><th scope=col>fun5_3</th><th scope=col>amb5_3</th></tr>\n",
       "\t<tr><th scope=col>&lt;dbl&gt;</th><th scope=col>&lt;dbl&gt;</th><th scope=col>&lt;dbl&gt;</th><th scope=col>&lt;dbl&gt;</th><th scope=col>&lt;dbl&gt;</th><th scope=col>&lt;dbl&gt;</th><th scope=col>&lt;dbl&gt;</th><th scope=col>&lt;dbl&gt;</th><th scope=col>&lt;dbl&gt;</th><th scope=col>&lt;dbl&gt;</th><th scope=col>⋯</th><th scope=col>&lt;dbl&gt;</th><th scope=col>&lt;dbl&gt;</th><th scope=col>&lt;dbl&gt;</th><th scope=col>&lt;dbl&gt;</th><th scope=col>&lt;dbl&gt;</th><th scope=col>&lt;dbl&gt;</th><th scope=col>&lt;dbl&gt;</th><th scope=col>&lt;dbl&gt;</th><th scope=col>&lt;dbl&gt;</th><th scope=col>&lt;dbl&gt;</th></tr>\n",
       "</thead>\n",
       "<tbody>\n",
       "\t<tr><td>1</td><td>1</td><td>0</td><td>1</td><td>1</td><td>1</td><td>10</td><td>7</td><td>NA</td><td> 4</td><td>⋯</td><td>5</td><td>7</td><td>7</td><td>7</td><td>7</td><td>NA</td><td>NA</td><td>NA</td><td>NA</td><td>NA</td></tr>\n",
       "\t<tr><td>1</td><td>1</td><td>0</td><td>1</td><td>1</td><td>1</td><td>10</td><td>7</td><td>NA</td><td> 3</td><td>⋯</td><td>5</td><td>7</td><td>7</td><td>7</td><td>7</td><td>NA</td><td>NA</td><td>NA</td><td>NA</td><td>NA</td></tr>\n",
       "\t<tr><td>1</td><td>1</td><td>0</td><td>1</td><td>1</td><td>1</td><td>10</td><td>7</td><td>NA</td><td>10</td><td>⋯</td><td>5</td><td>7</td><td>7</td><td>7</td><td>7</td><td>NA</td><td>NA</td><td>NA</td><td>NA</td><td>NA</td></tr>\n",
       "\t<tr><td>1</td><td>1</td><td>0</td><td>1</td><td>1</td><td>1</td><td>10</td><td>7</td><td>NA</td><td> 5</td><td>⋯</td><td>5</td><td>7</td><td>7</td><td>7</td><td>7</td><td>NA</td><td>NA</td><td>NA</td><td>NA</td><td>NA</td></tr>\n",
       "\t<tr><td>1</td><td>1</td><td>0</td><td>1</td><td>1</td><td>1</td><td>10</td><td>7</td><td>NA</td><td> 7</td><td>⋯</td><td>5</td><td>7</td><td>7</td><td>7</td><td>7</td><td>NA</td><td>NA</td><td>NA</td><td>NA</td><td>NA</td></tr>\n",
       "\t<tr><td>1</td><td>1</td><td>0</td><td>1</td><td>1</td><td>1</td><td>10</td><td>7</td><td>NA</td><td> 6</td><td>⋯</td><td>5</td><td>7</td><td>7</td><td>7</td><td>7</td><td>NA</td><td>NA</td><td>NA</td><td>NA</td><td>NA</td></tr>\n",
       "</tbody>\n",
       "</table>\n"
      ],
      "text/latex": [
       "A tibble: 6 × 195\n",
       "\\begin{tabular}{lllllllllllllllllllll}\n",
       " iid & id & gender & idg & condtn & wave & round & position & positin1 & order & ⋯ & attr3\\_3 & sinc3\\_3 & intel3\\_3 & fun3\\_3 & amb3\\_3 & attr5\\_3 & sinc5\\_3 & intel5\\_3 & fun5\\_3 & amb5\\_3\\\\\n",
       " <dbl> & <dbl> & <dbl> & <dbl> & <dbl> & <dbl> & <dbl> & <dbl> & <dbl> & <dbl> & ⋯ & <dbl> & <dbl> & <dbl> & <dbl> & <dbl> & <dbl> & <dbl> & <dbl> & <dbl> & <dbl>\\\\\n",
       "\\hline\n",
       "\t 1 & 1 & 0 & 1 & 1 & 1 & 10 & 7 & NA &  4 & ⋯ & 5 & 7 & 7 & 7 & 7 & NA & NA & NA & NA & NA\\\\\n",
       "\t 1 & 1 & 0 & 1 & 1 & 1 & 10 & 7 & NA &  3 & ⋯ & 5 & 7 & 7 & 7 & 7 & NA & NA & NA & NA & NA\\\\\n",
       "\t 1 & 1 & 0 & 1 & 1 & 1 & 10 & 7 & NA & 10 & ⋯ & 5 & 7 & 7 & 7 & 7 & NA & NA & NA & NA & NA\\\\\n",
       "\t 1 & 1 & 0 & 1 & 1 & 1 & 10 & 7 & NA &  5 & ⋯ & 5 & 7 & 7 & 7 & 7 & NA & NA & NA & NA & NA\\\\\n",
       "\t 1 & 1 & 0 & 1 & 1 & 1 & 10 & 7 & NA &  7 & ⋯ & 5 & 7 & 7 & 7 & 7 & NA & NA & NA & NA & NA\\\\\n",
       "\t 1 & 1 & 0 & 1 & 1 & 1 & 10 & 7 & NA &  6 & ⋯ & 5 & 7 & 7 & 7 & 7 & NA & NA & NA & NA & NA\\\\\n",
       "\\end{tabular}\n"
      ],
      "text/markdown": [
       "\n",
       "A tibble: 6 × 195\n",
       "\n",
       "| iid &lt;dbl&gt; | id &lt;dbl&gt; | gender &lt;dbl&gt; | idg &lt;dbl&gt; | condtn &lt;dbl&gt; | wave &lt;dbl&gt; | round &lt;dbl&gt; | position &lt;dbl&gt; | positin1 &lt;dbl&gt; | order &lt;dbl&gt; | ⋯ ⋯ | attr3_3 &lt;dbl&gt; | sinc3_3 &lt;dbl&gt; | intel3_3 &lt;dbl&gt; | fun3_3 &lt;dbl&gt; | amb3_3 &lt;dbl&gt; | attr5_3 &lt;dbl&gt; | sinc5_3 &lt;dbl&gt; | intel5_3 &lt;dbl&gt; | fun5_3 &lt;dbl&gt; | amb5_3 &lt;dbl&gt; |\n",
       "|---|---|---|---|---|---|---|---|---|---|---|---|---|---|---|---|---|---|---|---|---|\n",
       "| 1 | 1 | 0 | 1 | 1 | 1 | 10 | 7 | NA |  4 | ⋯ | 5 | 7 | 7 | 7 | 7 | NA | NA | NA | NA | NA |\n",
       "| 1 | 1 | 0 | 1 | 1 | 1 | 10 | 7 | NA |  3 | ⋯ | 5 | 7 | 7 | 7 | 7 | NA | NA | NA | NA | NA |\n",
       "| 1 | 1 | 0 | 1 | 1 | 1 | 10 | 7 | NA | 10 | ⋯ | 5 | 7 | 7 | 7 | 7 | NA | NA | NA | NA | NA |\n",
       "| 1 | 1 | 0 | 1 | 1 | 1 | 10 | 7 | NA |  5 | ⋯ | 5 | 7 | 7 | 7 | 7 | NA | NA | NA | NA | NA |\n",
       "| 1 | 1 | 0 | 1 | 1 | 1 | 10 | 7 | NA |  7 | ⋯ | 5 | 7 | 7 | 7 | 7 | NA | NA | NA | NA | NA |\n",
       "| 1 | 1 | 0 | 1 | 1 | 1 | 10 | 7 | NA |  6 | ⋯ | 5 | 7 | 7 | 7 | 7 | NA | NA | NA | NA | NA |\n",
       "\n"
      ],
      "text/plain": [
       "  iid id gender idg condtn wave round position positin1 order ⋯ attr3_3 sinc3_3\n",
       "1 1   1  0      1   1      1    10    7        NA        4    ⋯ 5       7      \n",
       "2 1   1  0      1   1      1    10    7        NA        3    ⋯ 5       7      \n",
       "3 1   1  0      1   1      1    10    7        NA       10    ⋯ 5       7      \n",
       "4 1   1  0      1   1      1    10    7        NA        5    ⋯ 5       7      \n",
       "5 1   1  0      1   1      1    10    7        NA        7    ⋯ 5       7      \n",
       "6 1   1  0      1   1      1    10    7        NA        6    ⋯ 5       7      \n",
       "  intel3_3 fun3_3 amb3_3 attr5_3 sinc5_3 intel5_3 fun5_3 amb5_3\n",
       "1 7        7      7      NA      NA      NA       NA     NA    \n",
       "2 7        7      7      NA      NA      NA       NA     NA    \n",
       "3 7        7      7      NA      NA      NA       NA     NA    \n",
       "4 7        7      7      NA      NA      NA       NA     NA    \n",
       "5 7        7      7      NA      NA      NA       NA     NA    \n",
       "6 7        7      7      NA      NA      NA       NA     NA    "
      ]
     },
     "metadata": {},
     "output_type": "display_data"
    }
   ],
   "source": [
    "speed_dating_summary\n",
    "speed_dating_preview"
   ]
  },
  {
   "cell_type": "markdown",
   "id": "be3484f2-bfba-42e7-917a-da806dc2424e",
   "metadata": {},
   "source": [
    "#### 3. Summary Discussion\n",
    "\n",
    "[link]: http://www.stat.columbia.edu/~gelman/arm/examples/speed.dating/Speed%20Dating%20Data%20Key.doc\n",
    "\n",
    "From the speed dating dataset's [legend][link], we know there are many variables that are not useful in answering our research question, such as the individual's event ID, or the zipcode of where the individual was raised. There are many variables which do not use numerical values as well, such as the individual's career or field of study. Using 195 predictors would also be very computationally expensive, so we narrowed our possible predictors down to 6: attractiveness, sincerity, intelligence, funniness, and ambition. We chose these variables because they can be numerically rated, and are commonly discussed traits regarding relationships, and therefore would be variables to use to predict whether an individual would match with their partner or not. In step 6, we will further narrow down our predictors, by figuring out which variables have the highest correlation with whether or not the individual matches. "
   ]
  },
  {
   "cell_type": "markdown",
   "id": "dd8a86c7-06d7-4610-9d04-0372629d3269",
   "metadata": {},
   "source": [
    "#### 4. Tidying the Data\n",
    "\n",
    "Our next step was to tidy the data into a state where we could easily use it to create our predictive model. We began by selecting the desired columns, and filtering out improper observations that could create future difficulties (N/A values, values that went by a different scale, etc.)."
   ]
  },
  {
   "cell_type": "code",
   "execution_count": 5,
   "id": "5bdd5b5a-4a48-44de-82f1-6769c2ea0a70",
   "metadata": {},
   "outputs": [
    {
     "name": "stderr",
     "output_type": "stream",
     "text": [
      "Warning message in wave != 6:9:\n",
      "“longer object length is not a multiple of shorter object length”\n"
     ]
    },
    {
     "data": {
      "text/html": [
       "<table class=\"dataframe\">\n",
       "<caption>A tibble: 6 × 7</caption>\n",
       "<thead>\n",
       "\t<tr><th scope=col>Match</th><th scope=col>Attractiveness</th><th scope=col>Sincerity</th><th scope=col>Intelligence</th><th scope=col>Funniness</th><th scope=col>Ambition</th><th scope=col>Shared_Interest</th></tr>\n",
       "\t<tr><th scope=col>&lt;fct&gt;</th><th scope=col>&lt;dbl&gt;</th><th scope=col>&lt;dbl&gt;</th><th scope=col>&lt;dbl&gt;</th><th scope=col>&lt;dbl&gt;</th><th scope=col>&lt;dbl&gt;</th><th scope=col>&lt;dbl&gt;</th></tr>\n",
       "</thead>\n",
       "<tbody>\n",
       "\t<tr><td>no </td><td> 6</td><td> 8</td><td> 8</td><td> 8</td><td> 8</td><td> 6</td></tr>\n",
       "\t<tr><td>no </td><td> 7</td><td> 8</td><td>10</td><td> 7</td><td> 7</td><td> 5</td></tr>\n",
       "\t<tr><td>yes</td><td>10</td><td>10</td><td>10</td><td>10</td><td>10</td><td>10</td></tr>\n",
       "\t<tr><td>yes</td><td> 7</td><td> 8</td><td> 9</td><td> 8</td><td> 9</td><td> 8</td></tr>\n",
       "\t<tr><td>yes</td><td> 8</td><td> 7</td><td> 9</td><td> 6</td><td> 9</td><td> 7</td></tr>\n",
       "\t<tr><td>no </td><td> 7</td><td> 7</td><td> 8</td><td> 8</td><td> 7</td><td> 7</td></tr>\n",
       "</tbody>\n",
       "</table>\n"
      ],
      "text/latex": [
       "A tibble: 6 × 7\n",
       "\\begin{tabular}{lllllll}\n",
       " Match & Attractiveness & Sincerity & Intelligence & Funniness & Ambition & Shared\\_Interest\\\\\n",
       " <fct> & <dbl> & <dbl> & <dbl> & <dbl> & <dbl> & <dbl>\\\\\n",
       "\\hline\n",
       "\t no  &  6 &  8 &  8 &  8 &  8 &  6\\\\\n",
       "\t no  &  7 &  8 & 10 &  7 &  7 &  5\\\\\n",
       "\t yes & 10 & 10 & 10 & 10 & 10 & 10\\\\\n",
       "\t yes &  7 &  8 &  9 &  8 &  9 &  8\\\\\n",
       "\t yes &  8 &  7 &  9 &  6 &  9 &  7\\\\\n",
       "\t no  &  7 &  7 &  8 &  8 &  7 &  7\\\\\n",
       "\\end{tabular}\n"
      ],
      "text/markdown": [
       "\n",
       "A tibble: 6 × 7\n",
       "\n",
       "| Match &lt;fct&gt; | Attractiveness &lt;dbl&gt; | Sincerity &lt;dbl&gt; | Intelligence &lt;dbl&gt; | Funniness &lt;dbl&gt; | Ambition &lt;dbl&gt; | Shared_Interest &lt;dbl&gt; |\n",
       "|---|---|---|---|---|---|---|\n",
       "| no  |  6 |  8 |  8 |  8 |  8 |  6 |\n",
       "| no  |  7 |  8 | 10 |  7 |  7 |  5 |\n",
       "| yes | 10 | 10 | 10 | 10 | 10 | 10 |\n",
       "| yes |  7 |  8 |  9 |  8 |  9 |  8 |\n",
       "| yes |  8 |  7 |  9 |  6 |  9 |  7 |\n",
       "| no  |  7 |  7 |  8 |  8 |  7 |  7 |\n",
       "\n"
      ],
      "text/plain": [
       "  Match Attractiveness Sincerity Intelligence Funniness Ambition\n",
       "1 no     6              8         8            8         8      \n",
       "2 no     7              8        10            7         7      \n",
       "3 yes   10             10        10           10        10      \n",
       "4 yes    7              8         9            8         9      \n",
       "5 yes    8              7         9            6         9      \n",
       "6 no     7              7         8            8         7      \n",
       "  Shared_Interest\n",
       "1  6             \n",
       "2  5             \n",
       "3 10             \n",
       "4  8             \n",
       "5  7             \n",
       "6  7             "
      ]
     },
     "metadata": {},
     "output_type": "display_data"
    }
   ],
   "source": [
    "# Selecting desired rows\n",
    "speed_dating_select <- speed_dating_data |>\n",
    "    filter(wave != 6:9) |> # These waves had a different rating system for traits\n",
    "    mutate(match = as_factor(match)) |>\n",
    "    select(match, attr_o, sinc_o, intel_o, fun_o, amb_o, shar_o)\n",
    "\n",
    "# Filtering the data of improper observations\n",
    "speed_dating_tidy <- speed_dating_select |>\n",
    "    filter(attr_o %% 1 == 0,\n",
    "          sinc_o %% 1 == 0,\n",
    "          intel_o %% 1 == 0,\n",
    "          fun_o %% 1 == 0,\n",
    "          amb_o %% 1 == 0, \n",
    "          shar_o %% 1 == 0,\n",
    "          fun_o <= 10)\n",
    "\n",
    "# Renaming categorical values\n",
    "levels(speed_dating_tidy$match)[2] <- \"yes\"\n",
    "levels(speed_dating_tidy$match)[1] <- \"no\"\n",
    "\n",
    "# Renaming columns\n",
    "colnames(speed_dating_tidy) <- c(\"Match\", \"Attractiveness\", \"Sincerity\", \"Intelligence\", \"Funniness\", \"Ambition\", \"Shared_Interest\")\n",
    "\n",
    "# Preview of tidied dataset\n",
    "head(speed_dating_tidy)"
   ]
  },
  {
   "cell_type": "markdown",
   "id": "80d5c53a-f913-429a-bc6f-d85d49dc5e61",
   "metadata": {},
   "source": [
    "#### 5. Column Legend\n",
    "- **Match**: Whether or not the individual matched with their partner\n",
    "- **Gender**: Gender of the individual\n",
    "- **Attractiveness - Funniness**: How the individual was rated by their partner in each trait"
   ]
  },
  {
   "cell_type": "markdown",
   "id": "32b0a523-d324-46ed-b849-ce77bb45e40d",
   "metadata": {},
   "source": [
    "#### 6. Variable Importance\n",
    "\n",
    "Before we create our model, we will perform another analysis of the data, this time seeing which traits have the highest correlation with matching with their partner. We will do this by grouping the data by whether the observation matched or not, finding the means of each groups traits, then finding the difference between the two groups' means. A larger difference will imply a stronger correlation between the trait and whether or not the individual matches, while a smaller difference implies a weaker correlation. "
   ]
  },
  {
   "cell_type": "code",
   "execution_count": 6,
   "id": "62e93ae7-42f9-431c-aaec-41b5fcf6a7da",
   "metadata": {},
   "outputs": [
    {
     "data": {
      "text/html": [
       "<table class=\"dataframe\">\n",
       "<caption>A tibble: 2 × 7</caption>\n",
       "<thead>\n",
       "\t<tr><th scope=col>Match</th><th scope=col>Mean_Attractiveness</th><th scope=col>Mean_Sincerity</th><th scope=col>Mean_Intelligence</th><th scope=col>Mean_Funniness</th><th scope=col>Mean_Ambition</th><th scope=col>Mean_Shared_Interest</th></tr>\n",
       "\t<tr><th scope=col>&lt;fct&gt;</th><th scope=col>&lt;dbl&gt;</th><th scope=col>&lt;dbl&gt;</th><th scope=col>&lt;dbl&gt;</th><th scope=col>&lt;dbl&gt;</th><th scope=col>&lt;dbl&gt;</th><th scope=col>&lt;dbl&gt;</th></tr>\n",
       "</thead>\n",
       "<tbody>\n",
       "\t<tr><td>no </td><td>5.953032</td><td>7.029332</td><td>7.233399</td><td>6.148101</td><td>6.645852</td><td>5.193990</td></tr>\n",
       "\t<tr><td>yes</td><td>7.321429</td><td>7.815331</td><td>7.959930</td><td>7.617596</td><td>7.342334</td><td>6.776132</td></tr>\n",
       "</tbody>\n",
       "</table>\n"
      ],
      "text/latex": [
       "A tibble: 2 × 7\n",
       "\\begin{tabular}{lllllll}\n",
       " Match & Mean\\_Attractiveness & Mean\\_Sincerity & Mean\\_Intelligence & Mean\\_Funniness & Mean\\_Ambition & Mean\\_Shared\\_Interest\\\\\n",
       " <fct> & <dbl> & <dbl> & <dbl> & <dbl> & <dbl> & <dbl>\\\\\n",
       "\\hline\n",
       "\t no  & 5.953032 & 7.029332 & 7.233399 & 6.148101 & 6.645852 & 5.193990\\\\\n",
       "\t yes & 7.321429 & 7.815331 & 7.959930 & 7.617596 & 7.342334 & 6.776132\\\\\n",
       "\\end{tabular}\n"
      ],
      "text/markdown": [
       "\n",
       "A tibble: 2 × 7\n",
       "\n",
       "| Match &lt;fct&gt; | Mean_Attractiveness &lt;dbl&gt; | Mean_Sincerity &lt;dbl&gt; | Mean_Intelligence &lt;dbl&gt; | Mean_Funniness &lt;dbl&gt; | Mean_Ambition &lt;dbl&gt; | Mean_Shared_Interest &lt;dbl&gt; |\n",
       "|---|---|---|---|---|---|---|\n",
       "| no  | 5.953032 | 7.029332 | 7.233399 | 6.148101 | 6.645852 | 5.193990 |\n",
       "| yes | 7.321429 | 7.815331 | 7.959930 | 7.617596 | 7.342334 | 6.776132 |\n",
       "\n"
      ],
      "text/plain": [
       "  Match Mean_Attractiveness Mean_Sincerity Mean_Intelligence Mean_Funniness\n",
       "1 no    5.953032            7.029332       7.233399          6.148101      \n",
       "2 yes   7.321429            7.815331       7.959930          7.617596      \n",
       "  Mean_Ambition Mean_Shared_Interest\n",
       "1 6.645852      5.193990            \n",
       "2 7.342334      6.776132            "
      ]
     },
     "metadata": {},
     "output_type": "display_data"
    }
   ],
   "source": [
    "# Taking means of each trait\n",
    "speed_dating_means <- speed_dating_tidy |>\n",
    "    group_by(Match) |>\n",
    "    summarize(Mean_Attractiveness = mean(Attractiveness),\n",
    "              Mean_Sincerity = mean(Sincerity),\n",
    "              Mean_Intelligence = mean(Intelligence),\n",
    "              Mean_Funniness = mean(Funniness),\n",
    "              Mean_Ambition = mean(Ambition), \n",
    "              Mean_Shared_Interest = mean(Shared_Interest))\n",
    "speed_dating_means"
   ]
  },
  {
   "cell_type": "markdown",
   "id": "cb396289-b115-432c-8c2d-8bf9d649ed37",
   "metadata": {},
   "source": [
    "Now that we have the means, we will take the difference between the observations that matched and the ones that did not, to see which has the largest correlation. "
   ]
  },
  {
   "cell_type": "code",
   "execution_count": 7,
   "id": "ec2e30f1-2791-4731-83aa-16703bff4f2c",
   "metadata": {},
   "outputs": [
    {
     "data": {
      "text/html": [
       "<table class=\"dataframe\">\n",
       "<caption>A data.frame: 1 × 6</caption>\n",
       "<thead>\n",
       "\t<tr><th scope=col>Attract_Diff</th><th scope=col>Sincere_Diff</th><th scope=col>Intel_Diff</th><th scope=col>Funny_Diff</th><th scope=col>Ambition_Diff</th><th scope=col>Shared_Interest_Diff</th></tr>\n",
       "\t<tr><th scope=col>&lt;dbl&gt;</th><th scope=col>&lt;dbl&gt;</th><th scope=col>&lt;dbl&gt;</th><th scope=col>&lt;dbl&gt;</th><th scope=col>&lt;dbl&gt;</th><th scope=col>&lt;dbl&gt;</th></tr>\n",
       "</thead>\n",
       "<tbody>\n",
       "\t<tr><td>1.368396</td><td>0.7859986</td><td>0.726531</td><td>1.469494</td><td>0.6964824</td><td>1.582143</td></tr>\n",
       "</tbody>\n",
       "</table>\n"
      ],
      "text/latex": [
       "A data.frame: 1 × 6\n",
       "\\begin{tabular}{llllll}\n",
       " Attract\\_Diff & Sincere\\_Diff & Intel\\_Diff & Funny\\_Diff & Ambition\\_Diff & Shared\\_Interest\\_Diff\\\\\n",
       " <dbl> & <dbl> & <dbl> & <dbl> & <dbl> & <dbl>\\\\\n",
       "\\hline\n",
       "\t 1.368396 & 0.7859986 & 0.726531 & 1.469494 & 0.6964824 & 1.582143\\\\\n",
       "\\end{tabular}\n"
      ],
      "text/markdown": [
       "\n",
       "A data.frame: 1 × 6\n",
       "\n",
       "| Attract_Diff &lt;dbl&gt; | Sincere_Diff &lt;dbl&gt; | Intel_Diff &lt;dbl&gt; | Funny_Diff &lt;dbl&gt; | Ambition_Diff &lt;dbl&gt; | Shared_Interest_Diff &lt;dbl&gt; |\n",
       "|---|---|---|---|---|---|\n",
       "| 1.368396 | 0.7859986 | 0.726531 | 1.469494 | 0.6964824 | 1.582143 |\n",
       "\n"
      ],
      "text/plain": [
       "  Attract_Diff Sincere_Diff Intel_Diff Funny_Diff Ambition_Diff\n",
       "1 1.368396     0.7859986    0.726531   1.469494   0.6964824    \n",
       "  Shared_Interest_Diff\n",
       "1 1.582143            "
      ]
     },
     "metadata": {},
     "output_type": "display_data"
    }
   ],
   "source": [
    "# Means of observations that matched\n",
    "speed_dating_yes <- speed_dating_means |>\n",
    "    slice(1) |>\n",
    "    select(-Match) \n",
    "\n",
    "# Means of observations that did not match\n",
    "speed_dating_no <- speed_dating_means |>\n",
    "    slice(2) |>\n",
    "    select(-Match)\n",
    "\n",
    "# Taking the difference of \"yes\" and \"no\" means\n",
    "speed_dating_diffs <- abs(speed_dating_yes - speed_dating_no)\n",
    "\n",
    "# Renaming columns\n",
    "colnames(speed_dating_diffs) <- c(\"Attract_Diff\", \"Sincere_Diff\", \"Intel_Diff\", \"Funny_Diff\", \"Ambition_Diff\", \"Shared_Interest_Diff\")\n",
    "\n",
    "speed_dating_diffs"
   ]
  },
  {
   "cell_type": "markdown",
   "id": "c643ca86-5cfd-40bd-8bd5-689fa4f21c63",
   "metadata": {},
   "source": [
    "#### 7. Variable Discussion\n",
    "\n",
    "From the table above, we observe that **attractiveness**, **funniness** and **shared interest** have a significantly stronger correlation with getting a match than the other traits. Therefore, we will create a model which only uses those 3 variables as predictors, as it will create a more accurate model."
   ]
  },
  {
   "cell_type": "markdown",
   "id": "51781533-92f3-4455-85cd-3b09bcde4a8b",
   "metadata": {},
   "source": [
    "#### 8. Creating the Classification Model\n",
    "\n",
    "We will be creating a K-Nearest Neighbours classification model to predict whether an observation will match or not. To begin, we will split the data into a training set and a testing set, with proportions of 75% and 25%, respectfully. "
   ]
  },
  {
   "cell_type": "code",
   "execution_count": 8,
   "id": "dab7a705-f1ca-4715-a0fb-2f572491bd4c",
   "metadata": {},
   "outputs": [],
   "source": [
    "# Setting a seed\n",
    "set.seed(1000)\n",
    "\n",
    "# Splitting the data\n",
    "speed_dating_split <- initial_split(speed_dating_tidy, prop = 0.75, strata = Match)\n",
    "speed_dating_train <- training(speed_dating_split)\n",
    "speed_dating_test <- testing(speed_dating_split)"
   ]
  },
  {
   "cell_type": "markdown",
   "id": "4005d99b-12bc-44a0-ac3c-f419884775b7",
   "metadata": {},
   "source": [
    "Our next step is to determine a value of K which will give us the most accurate model. To do this, we will perform a 5 fold cross validation on the data, and create a plot of several K values against their accuracies. "
   ]
  },
  {
   "cell_type": "code",
   "execution_count": 9,
   "id": "698086c8-2bae-40e3-ade1-ccd3018dd7af",
   "metadata": {},
   "outputs": [
    {
     "data": {
      "image/png": "[encoded data removed]",
      "text/plain": [
       "plot without title"
      ]
     },
     "metadata": {
      "image/png": {
       "height": 420,
       "width": 420
      }
     },
     "output_type": "display_data"
    }
   ],
   "source": [
    "# Setting a seed\n",
    "set.seed(1000)\n",
    "\n",
    "# Creating a tuning model\n",
    "knn_tune <- nearest_neighbor(weight_func = \"rectangular\", neighbors = tune()) |>\n",
    "    set_engine(\"kknn\") |>\n",
    "    set_mode(\"classification\")\n",
    "\n",
    "# Creating the folds\n",
    "speed_dating_vfold <- vfold_cv(data = speed_dating_train, v = 5, strata = Match)\n",
    "\n",
    "# K values that we would like to test\n",
    "k_value <- tibble(neighbors = seq(from = 1, to = 10, by = 1))\n",
    "\n",
    "# Creating a scaled recipe\n",
    "speed_dating_recipe <- recipe(Match ~ Attractiveness + Funniness + Shared_Interest, data = speed_dating_train)\n",
    "\n",
    "# Performing the cross validation, and collecting the results\n",
    "knn_results <- workflow() |>\n",
    "    add_recipe(speed_dating_recipe) |>\n",
    "    add_model(knn_tune) |>\n",
    "    tune_grid(resamples = speed_dating_vfold, grid = k_value) |>\n",
    "    collect_metrics() \n",
    "\n",
    "accuracies <- knn_results |>\n",
    "    filter(.metric == \"accuracy\")\n",
    "\n",
    "# Plotting the results\n",
    "cross_val_plot <- accuracies |>\n",
    "    ggplot(aes(x = neighbors, y = mean)) +\n",
    "    geom_point() +\n",
    "    geom_line() +\n",
    "    labs(x = \"Neighbors\", y = \"Accuracy Estimate\")\n",
    "cross_val_plot"
   ]
  },
  {
   "cell_type": "markdown",
   "id": "fc751e80-b8a7-4d35-b843-13f2a755cf04",
   "metadata": {},
   "source": [
    "By observing the plot above and seeing which K value will result in the highest accuracy, we decide to create a K-NN Classification model which uses **9** neighbours. "
   ]
  },
  {
   "cell_type": "code",
   "execution_count": 10,
   "id": "004e6878-dbf8-48ca-8adf-d53c4086ef98",
   "metadata": {},
   "outputs": [],
   "source": [
    "knn_optimal <- nearest_neighbor(weight_func = \"rectangular\", neighbors = 9) |>\n",
    "    set_engine(\"kknn\") |>\n",
    "    set_mode(\"classification\")\n",
    "\n",
    "speed_dating_fit <- workflow() |>\n",
    "    add_recipe(speed_dating_recipe) |>\n",
    "    add_model(knn_optimal) |>\n",
    "    fit(data = speed_dating_train)"
   ]
  },
  {
   "cell_type": "markdown",
   "id": "5d3dbc63-64a8-4d10-badd-49fc151ec14b",
   "metadata": {},
   "source": [
    "#### Testing the model\n",
    "\n",
    "Now that we have created a model, we will test it on the testing set from before to analyze the accuracy of this model."
   ]
  },
  {
   "cell_type": "code",
   "execution_count": 11,
   "id": "5f6855d8-2198-4131-84c3-48a248ae154a",
   "metadata": {
    "tags": []
   },
   "outputs": [
    {
     "data": {
      "text/html": [
       "0.827668455575432"
      ],
      "text/latex": [
       "0.827668455575432"
      ],
      "text/markdown": [
       "0.827668455575432"
      ],
      "text/plain": [
       "[1] 0.8276685"
      ]
     },
     "metadata": {},
     "output_type": "display_data"
    },
    {
     "data": {
      "text/plain": [
       "          Truth\n",
       "Prediction   no  yes\n",
       "       no  1385  284\n",
       "       yes    5    3"
      ]
     },
     "metadata": {},
     "output_type": "display_data"
    },
    {
     "data": {
      "text/html": [
       "<table class=\"dataframe\">\n",
       "<caption>A tibble: 2 × 3</caption>\n",
       "<thead>\n",
       "\t<tr><th scope=col>.metric</th><th scope=col>.estimator</th><th scope=col>.estimate</th></tr>\n",
       "\t<tr><th scope=col>&lt;chr&gt;</th><th scope=col>&lt;chr&gt;</th><th scope=col>&lt;dbl&gt;</th></tr>\n",
       "</thead>\n",
       "<tbody>\n",
       "\t<tr><td>accuracy</td><td>binary</td><td>0.82766846</td></tr>\n",
       "\t<tr><td>kap     </td><td>binary</td><td>0.01116046</td></tr>\n",
       "</tbody>\n",
       "</table>\n"
      ],
      "text/latex": [
       "A tibble: 2 × 3\n",
       "\\begin{tabular}{lll}\n",
       " .metric & .estimator & .estimate\\\\\n",
       " <chr> & <chr> & <dbl>\\\\\n",
       "\\hline\n",
       "\t accuracy & binary & 0.82766846\\\\\n",
       "\t kap      & binary & 0.01116046\\\\\n",
       "\\end{tabular}\n"
      ],
      "text/markdown": [
       "\n",
       "A tibble: 2 × 3\n",
       "\n",
       "| .metric &lt;chr&gt; | .estimator &lt;chr&gt; | .estimate &lt;dbl&gt; |\n",
       "|---|---|---|\n",
       "| accuracy | binary | 0.82766846 |\n",
       "| kap      | binary | 0.01116046 |\n",
       "\n"
      ],
      "text/plain": [
       "  .metric  .estimator .estimate \n",
       "1 accuracy binary     0.82766846\n",
       "2 kap      binary     0.01116046"
      ]
     },
     "metadata": {},
     "output_type": "display_data"
    }
   ],
   "source": [
    "predictions <- predict(speed_dating_fit, speed_dating_test) |>\n",
    "    bind_cols(speed_dating_test)\n",
    "\n",
    "accuracies <- predictions |>\n",
    "    metrics(truth = Match, estimate = .pred_class)\n",
    "\n",
    "accuracy_matrix <- predictions |>\n",
    "    conf_mat(truth = Match, estimate = .pred_class)\n",
    "\n",
    "(1385 + 3) / (1385 + 284 + 5 + 3)\n",
    "\n",
    "accuracy_matrix\n",
    "accuracies"
   ]
  },
  {
   "cell_type": "markdown",
   "id": "6bc633e6-9b53-4877-92d5-77c9192cf050",
   "metadata": {},
   "source": [
    "#### Results\n",
    "\n",
    "The results of our model show that it has around an 83% accuracy. However, from the accuracy matrix produced when comparing the predictions and truths, we notice that the model will almost always predict an observation to not match, and due to the majority of observations not matching, the accuracy remains relatively high. This is due to a class imbalance in the dataset, since most observations do not match, as seen in the table below."
   ]
  },
  {
   "cell_type": "code",
   "execution_count": 12,
   "id": "6d3394f5-37ad-4e5c-b7eb-841bda6dfc0d",
   "metadata": {},
   "outputs": [
    {
     "data": {
      "text/html": [
       "<table class=\"dataframe\">\n",
       "<caption>A tibble: 1 × 2</caption>\n",
       "<thead>\n",
       "\t<tr><th scope=col>Matched</th><th scope=col>Did Not Match</th></tr>\n",
       "\t<tr><th scope=col>&lt;int&gt;</th><th scope=col>&lt;int&gt;</th></tr>\n",
       "</thead>\n",
       "<tbody>\n",
       "\t<tr><td>1148</td><td>5557</td></tr>\n",
       "</tbody>\n",
       "</table>\n"
      ],
      "text/latex": [
       "A tibble: 1 × 2\n",
       "\\begin{tabular}{ll}\n",
       " Matched & Did Not Match\\\\\n",
       " <int> & <int>\\\\\n",
       "\\hline\n",
       "\t 1148 & 5557\\\\\n",
       "\\end{tabular}\n"
      ],
      "text/markdown": [
       "\n",
       "A tibble: 1 × 2\n",
       "\n",
       "| Matched &lt;int&gt; | Did Not Match &lt;int&gt; |\n",
       "|---|---|\n",
       "| 1148 | 5557 |\n",
       "\n"
      ],
      "text/plain": [
       "  Matched Did Not Match\n",
       "1 1148    5557         "
      ]
     },
     "metadata": {},
     "output_type": "display_data"
    }
   ],
   "source": [
    "yes_count <- nrow(filter(speed_dating_tidy, Match == \"yes\"))\n",
    "no_count <- nrow(filter(speed_dating_tidy, Match == \"no\"))\n",
    "\n",
    "tibble(Matched = yes_count, \n",
    "       \"Did Not Match\" = no_count)"
   ]
  },
  {
   "cell_type": "markdown",
   "id": "6352df88-41d0-46a0-ad67-1973ba81980c",
   "metadata": {},
   "source": [
    "To resolve this issue, we will **undersample** the observations that did not match, so our model will equally weight both classes. "
   ]
  },
  {
   "cell_type": "markdown",
   "id": "d23d1ea5-258d-458b-984e-151e547e827e",
   "metadata": {},
   "source": [
    "#### TODO: Undersampling?"
   ]
  },
  {
   "cell_type": "markdown",
   "id": "93c564b9-365f-41be-959a-4b884fad9c17",
   "metadata": {},
   "source": [
    "## Discussion\n",
    "\n",
    "## Summarize what you found\n",
    "\n",
    "This project allows us to see which variables that correspond to the individuals traits that have a strong relation to how a couple get matched in speed dating.\n",
    "\n",
    "## Discuss whether this is what you expected to find?\n",
    "\n",
    "Yes, there are some things that we expected to find. We were expecting variables that are prominent in first impression of a person during speed dating tend to have a stronger relation with how likely the couple get matched than variables that require a deeper understanding of someone.\n",
    "\n",
    "## Discuss what impact could such findings have?\n",
    "\n",
    "The project has a potential to help researchers that focus on human relationship to understand which human characters or traits that determine the success rate couple of getting matched in speed dating. This project could be a helpful tool to identify human nature in speed dating. Moreover, this project also gives contribution in the data science field especially K-NN Regression.\n",
    "\n",
    "## Discuss what future questions could this lead to?\n",
    "\n",
    "\n"
   ]
  },
  {
   "cell_type": "markdown",
   "id": "b95e7ecf-960b-488b-99a4-1965175514b5",
   "metadata": {},
   "source": [
    "## References"
   ]
  },
  {
   "cell_type": "code",
   "execution_count": null,
   "id": "713c2138-4a57-4d89-90b8-3bc1596efdaa",
   "metadata": {},
   "outputs": [],
   "source": []
  }
 ],
 "metadata": {
  "kernelspec": {
   "display_name": "R",
   "language": "R",
   "name": "ir"
  },
  "language_info": {
   "codemirror_mode": "r",
   "file_extension": ".r",
   "mimetype": "text/x-r-source",
   "name": "R",
   "pygments_lexer": "r",
   "version": "4.1.1"
  }
 },
 "nbformat": 4,
 "nbformat_minor": 5
}
