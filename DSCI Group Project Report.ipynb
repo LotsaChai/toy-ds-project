{
 "cells": [
  {
   "cell_type": "markdown",
   "id": "521fad66-8d3d-4981-a505-9bfc30f9688a",
   "metadata": {},
   "source": [
    "# Predicting Speed Dating Success Using Various Personality Traits"
   ]
  },
  {
   "cell_type": "markdown",
   "id": "543ca6df-f0e5-4e0e-b63e-188ed4c282ba",
   "metadata": {},
   "source": [
    "## Introduction\n",
    "\n"
   ]
  },
  {
   "cell_type": "markdown",
   "id": "ebf83caf-37f9-4b73-9ad8-5f401f9e960d",
   "metadata": {},
   "source": [
    "Speed dating is a popular dating practice that involves meeting multiple potential partners in a short period of time. This practice has gained popularity in recent years due to its effectiveness in helping people find compatible partners.\n",
    "\n",
    "In this proposal, we will attempt to answer the following question: What individual characteristics are most important in predicting the success of speed dating? By analyzing data from a speed dating dataset, we will attempt to identify which factors are most strongly associated with successful matches.\n",
    "\n",
    "The dataset we use contains information from speed dating events held in different cities in the United States. It includes information on participants' demographic characteristics, such as age, education level, and ethnicity, as well as their responses to survey questions related to their personalities, interests, and dating preferences, and whether or not each individual was matched with their potential partner.\n",
    "\n"
   ]
  },
  {
   "cell_type": "markdown",
   "id": "a6343fcb-ceda-48cc-98ec-f31b8c78a0de",
   "metadata": {},
   "source": [
    "## Methods and Results"
   ]
  },
  {
   "cell_type": "markdown",
   "id": "b15a9cf2-ac77-40f8-9d13-945cef69e1bc",
   "metadata": {},
   "source": [
    "#### 1. Importing Libraries\n",
    "\n",
    "We begin by installing and importing the required libraries for this analysis."
   ]
  },
  {
   "cell_type": "code",
   "execution_count": 31,
   "id": "1c5d422e-7bf5-45d5-98dc-fd6cd1892f24",
   "metadata": {},
   "outputs": [
    {
     "name": "stderr",
     "output_type": "stream",
     "text": [
      "Installing package into ‘/home/jupyter/R/x86_64-pc-linux-gnu-library/4.2’\n",
      "(as ‘lib’ is unspecified)\n",
      "\n",
      "Installing package into ‘/home/jupyter/R/x86_64-pc-linux-gnu-library/4.2’\n",
      "(as ‘lib’ is unspecified)\n",
      "\n",
      "also installing the dependencies ‘furrr’, ‘rsample’, ‘tune’, ‘workflowsets’\n",
      "\n",
      "\n",
      "Warning message in install.packages(\"tidymodels\"):\n",
      "“installation of package ‘furrr’ had non-zero exit status”\n",
      "Warning message in install.packages(\"tidymodels\"):\n",
      "“installation of package ‘rsample’ had non-zero exit status”\n",
      "Warning message in install.packages(\"tidymodels\"):\n",
      "“installation of package ‘tune’ had non-zero exit status”\n",
      "Warning message in install.packages(\"tidymodels\"):\n",
      "“installation of package ‘workflowsets’ had non-zero exit status”\n",
      "Warning message in install.packages(\"tidymodels\"):\n",
      "“installation of package ‘tidymodels’ had non-zero exit status”\n"
     ]
    }
   ],
   "source": [
    "# Install packages\n",
    "# install.packages('tidyverse')\n",
    "install.packages(\"cli\")\n",
    "install.packages('tidymodels')\n",
    "# install.packages('repr')\n",
    "# install.packages('gridExtra')\n",
    "# install.packages('grid')"
   ]
  },
  {
   "cell_type": "code",
   "execution_count": null,
   "id": "bb963640-7206-488e-9857-f109faaae43d",
   "metadata": {},
   "outputs": [],
   "source": [
    "# Importing libraries\n",
    "library(tidyverse)\n",
    "library(tidymodels)\n",
    "library(repr)\n",
    "library(gridExtra)\n",
    "library(grid)"
   ]
  },
  {
   "cell_type": "markdown",
   "id": "d774385b-6f2c-4a8e-8435-caf5ef5f8e9d",
   "metadata": {},
   "source": [
    "#### 2. Reading the Data\n",
    "\n",
    "Using the **read_csv()** function, we read the data from the source and store it in a variable. We perform a short analysis on the data, getting information about the number of columns, rows, as well as a preview of what each observation looks like. "
   ]
  },
  {
   "cell_type": "code",
   "execution_count": null,
   "id": "769424c1-15ba-4351-a9a2-f6ce88eb8f5c",
   "metadata": {},
   "outputs": [],
   "source": [
    "# Reading the data\n",
    "speed_dating_data <- read_csv(\"http://www.stat.columbia.edu/~gelman/arm/examples/speed.dating/Speed%20Dating%20Data.csv\")\n",
    "\n",
    "# Number of Rows and Columns\n",
    "num_rows <- nrow(speed_dating_data)\n",
    "num_cols <- ncol(speed_dating_data)\n",
    "\n",
    "speed_dating_summary <- tibble(Rows = num_rows, \n",
    "                  Columns = num_cols)\n",
    "\n",
    "# Previewing the data\n",
    "speed_dating_preview <- head(speed_dating_data)"
   ]
  },
  {
   "cell_type": "code",
   "execution_count": null,
   "id": "33d39bb5-92b3-4099-9664-defde01c571c",
   "metadata": {},
   "outputs": [],
   "source": [
    "speed_dating_summary\n",
    "speed_dating_preview"
   ]
  },
  {
   "cell_type": "markdown",
   "id": "be3484f2-bfba-42e7-917a-da806dc2424e",
   "metadata": {},
   "source": [
    "#### 3. Summary Discussion\n",
    "\n",
    "[link]: http://www.stat.columbia.edu/~gelman/arm/examples/speed.dating/Speed%20Dating%20Data%20Key.doc\n",
    "\n",
    "From the speed dating dataset's [legend][link], we know there are many variables that are not useful in answering our research question, such as the individual's event ID, or the zipcode of where the individual was raised. There are many variables which do not use numerical values as well, such as the individual's career or field of study. Using 195 predictors would also be very computationally expensive, so we narrowed our possible predictors down to 6: attractiveness, sincerity, intelligence, funniness, and ambition. We chose these variables because they can be numerically rated, and are commonly discussed traits regarding relationships, and therefore would be variables to use to predict whether an individual would match with their partner or not. In step 6, we will further narrow down our predictors, by figuring out which variables have the highest correlation with whether or not the individual matches. "
   ]
  },
  {
   "cell_type": "markdown",
   "id": "dd8a86c7-06d7-4610-9d04-0372629d3269",
   "metadata": {},
   "source": [
    "#### 4. Tidying the Data\n",
    "\n",
    "Our next step was to tidy the data into a state where we could easily use it to create our predictive model. We began by selecting the desired columns, and filtering out improper observations that could create future difficulties (N/A values, values that went by a different scale, etc.)."
   ]
  },
  {
   "cell_type": "code",
   "execution_count": null,
   "id": "5bdd5b5a-4a48-44de-82f1-6769c2ea0a70",
   "metadata": {},
   "outputs": [],
   "source": [
    "# Selecting desired rows\n",
    "speed_dating_select <- speed_dating_data |>\n",
    "    filter(wave != 6:9) |> # These waves had a different rating system for traits\n",
    "    mutate(match = as_factor(match)) |>\n",
    "    select(match, attr_o, sinc_o, intel_o, fun_o, amb_o, shar_o)\n",
    "\n",
    "# Filtering the data of improper observations\n",
    "speed_dating_tidy <- speed_dating_select |>\n",
    "    filter(attr_o %% 1 == 0,\n",
    "          sinc_o %% 1 == 0,\n",
    "          intel_o %% 1 == 0,\n",
    "          fun_o %% 1 == 0,\n",
    "          amb_o %% 1 == 0, \n",
    "          shar_o %% 1 == 0,\n",
    "          fun_o <= 10)\n",
    "\n",
    "# Renaming categorical values\n",
    "levels(speed_dating_tidy$match)[2] <- \"yes\"\n",
    "levels(speed_dating_tidy$match)[1] <- \"no\"\n",
    "\n",
    "# Renaming columns\n",
    "colnames(speed_dating_tidy) <- c(\"Match\", \"Attractiveness\", \"Sincerity\", \"Intelligence\", \"Funniness\", \"Ambition\", \"Shared_Interest\")\n",
    "\n",
    "# Preview of tidied dataset\n",
    "head(speed_dating_tidy)"
   ]
  },
  {
   "cell_type": "markdown",
   "id": "80d5c53a-f913-429a-bc6f-d85d49dc5e61",
   "metadata": {},
   "source": [
    "#### 5. Column Legend\n",
    "- **Match**: Whether or not the individual matched with their partner\n",
    "- **Gender**: Gender of the individual\n",
    "- **Attractiveness - Funniness**: How the individual was rated by their partner in each trait"
   ]
  },
  {
   "cell_type": "markdown",
   "id": "32b0a523-d324-46ed-b849-ce77bb45e40d",
   "metadata": {},
   "source": [
    "#### 6. Variable Importance\n",
    "\n",
    "Before we create our model, we will perform another analysis of the data, this time seeing which traits have the highest correlation with matching with their partner. We will do this by grouping the data by whether the observation matched or not, finding the means of each groups traits, then finding the difference between the two groups' means. A larger difference will imply a stronger correlation between the trait and whether or not the individual matches, while a smaller difference implies a weaker correlation. "
   ]
  },
  {
   "cell_type": "code",
   "execution_count": null,
   "id": "62e93ae7-42f9-431c-aaec-41b5fcf6a7da",
   "metadata": {},
   "outputs": [],
   "source": [
    "# Taking means of each trait\n",
    "speed_dating_means <- speed_dating_tidy |>\n",
    "    group_by(Match) |>\n",
    "    summarize(Mean_Attractiveness = mean(Attractiveness),\n",
    "              Mean_Sincerity = mean(Sincerity),\n",
    "              Mean_Intelligence = mean(Intelligence),\n",
    "              Mean_Funniness = mean(Funniness),\n",
    "              Mean_Ambition = mean(Ambition), \n",
    "              Mean_Shared_Interest = mean(Shared_Interest))\n",
    "speed_dating_means"
   ]
  },
  {
   "cell_type": "markdown",
   "id": "cb396289-b115-432c-8c2d-8bf9d649ed37",
   "metadata": {},
   "source": [
    "Now that we have the means, we will take the difference between the observations that matched and the ones that did not, to see which has the largest correlation. "
   ]
  },
  {
   "cell_type": "code",
   "execution_count": null,
   "id": "ec2e30f1-2791-4731-83aa-16703bff4f2c",
   "metadata": {},
   "outputs": [],
   "source": [
    "# Means of observations that matched\n",
    "speed_dating_yes <- speed_dating_means |>\n",
    "    slice(1) |>\n",
    "    select(-Match) \n",
    "\n",
    "# Means of observations that did not match\n",
    "speed_dating_no <- speed_dating_means |>\n",
    "    slice(2) |>\n",
    "    select(-Match)\n",
    "\n",
    "# Taking the difference of \"yes\" and \"no\" means\n",
    "speed_dating_diffs <- abs(speed_dating_yes - speed_dating_no)\n",
    "\n",
    "# Renaming columns\n",
    "colnames(speed_dating_diffs) <- c(\"Attract_Diff\", \"Sincere_Diff\", \"Intel_Diff\", \"Funny_Diff\", \"Ambition_Diff\", \"Shared_Interest_Diff\")\n",
    "\n",
    "speed_dating_diffs"
   ]
  },
  {
   "cell_type": "markdown",
   "id": "c643ca86-5cfd-40bd-8bd5-689fa4f21c63",
   "metadata": {},
   "source": [
    "#### 7. Variable Discussion\n",
    "\n",
    "From the table above, we observe that **attractiveness**, **funniness** and **shared interest** have a significantly stronger correlation with getting a match than the other traits. Therefore, we will create a model which only uses those 3 variables as predictors, as it will create a more accurate model."
   ]
  },
  {
   "cell_type": "markdown",
   "id": "51781533-92f3-4455-85cd-3b09bcde4a8b",
   "metadata": {},
   "source": [
    "#### 8. Creating the Classification Model\n",
    "\n",
    "We will be creating a K-Nearest Neighbours classification model to predict whether an observation will match or not. To begin, we will split the data into a training set and a testing set, with proportions of 75% and 25%, respectfully. "
   ]
  },
  {
   "cell_type": "code",
   "execution_count": null,
   "id": "dab7a705-f1ca-4715-a0fb-2f572491bd4c",
   "metadata": {},
   "outputs": [],
   "source": [
    "# Setting a seed\n",
    "set.seed(1000)\n",
    "\n",
    "# Splitting the data\n",
    "speed_dating_split <- initial_split(speed_dating_tidy, prop = 0.75, strata = Match)\n",
    "speed_dating_train <- training(speed_dating_split)\n",
    "speed_dating_test <- testing(speed_dating_split)"
   ]
  },
  {
   "cell_type": "markdown",
   "id": "4005d99b-12bc-44a0-ac3c-f419884775b7",
   "metadata": {},
   "source": [
    "Our next step is to determine a value of K which will give us the most accurate model. To do this, we will perform a 5 fold cross validation on the data, and create a plot of several K values against their accuracies. "
   ]
  },
  {
   "cell_type": "code",
   "execution_count": null,
   "id": "698086c8-2bae-40e3-ade1-ccd3018dd7af",
   "metadata": {},
   "outputs": [],
   "source": [
    "# Setting a seed\n",
    "set.seed(1000)\n",
    "\n",
    "# Creating a tuning model\n",
    "knn_tune <- nearest_neighbor(weight_func = \"rectangular\", neighbors = tune()) |>\n",
    "    set_engine(\"kknn\") |>\n",
    "    set_mode(\"classification\")\n",
    "\n",
    "# Creating the folds\n",
    "speed_dating_vfold <- vfold_cv(data = speed_dating_train, v = 5, strata = Match)\n",
    "\n",
    "# K values that we would like to test\n",
    "k_value <- tibble(neighbors = seq(from = 1, to = 10, by = 1))\n",
    "\n",
    "# Creating a scaled recipe\n",
    "speed_dating_recipe <- recipe(Match ~ Attractiveness + Funniness + Shared_Interest, data = speed_dating_train)\n",
    "\n",
    "# Performing the cross validation, and collecting the results\n",
    "knn_results <- workflow() |>\n",
    "    add_recipe(speed_dating_recipe) |>\n",
    "    add_model(knn_tune) |>\n",
    "    tune_grid(resamples = speed_dating_vfold, grid = k_value) |>\n",
    "    collect_metrics() \n",
    "\n",
    "accuracies <- knn_results |>\n",
    "    filter(.metric == \"accuracy\")\n",
    "\n",
    "# Plotting the results\n",
    "cross_val_plot <- accuracies |>\n",
    "    ggplot(aes(x = neighbors, y = mean)) +\n",
    "    geom_point() +\n",
    "    geom_line() +\n",
    "    labs(x = \"Neighbors\", y = \"Accuracy Estimate\")\n",
    "cross_val_plot"
   ]
  },
  {
   "cell_type": "markdown",
   "id": "fc751e80-b8a7-4d35-b843-13f2a755cf04",
   "metadata": {},
   "source": [
    "By observing the plot above and seeing which K value will result in the highest accuracy, we decide to create a K-NN Classification model which uses **9** neighbours. "
   ]
  },
  {
   "cell_type": "code",
   "execution_count": null,
   "id": "004e6878-dbf8-48ca-8adf-d53c4086ef98",
   "metadata": {},
   "outputs": [],
   "source": [
    "knn_optimal <- nearest_neighbor(weight_func = \"rectangular\", neighbors = 9) |>\n",
    "    set_engine(\"kknn\") |>\n",
    "    set_mode(\"classification\")\n",
    "\n",
    "speed_dating_fit <- workflow() |>\n",
    "    add_recipe(speed_dating_recipe) |>\n",
    "    add_model(knn_optimal) |>\n",
    "    fit(data = speed_dating_train)"
   ]
  },
  {
   "cell_type": "markdown",
   "id": "5d3dbc63-64a8-4d10-badd-49fc151ec14b",
   "metadata": {},
   "source": [
    "#### Testing the model\n",
    "\n",
    "Now that we have created a model, we will test it on the testing set from before to analyze the accuracy of this model."
   ]
  },
  {
   "cell_type": "code",
   "execution_count": null,
   "id": "5f6855d8-2198-4131-84c3-48a248ae154a",
   "metadata": {
    "tags": []
   },
   "outputs": [],
   "source": [
    "predictions <- predict(speed_dating_fit, speed_dating_test) |>\n",
    "    bind_cols(speed_dating_test)\n",
    "\n",
    "accuracies <- predictions |>\n",
    "    metrics(truth = Match, estimate = .pred_class)\n",
    "\n",
    "accuracy_matrix <- predictions |>\n",
    "    conf_mat(truth = Match, estimate = .pred_class)\n",
    "\n",
    "(1385 + 3) / (1385 + 284 + 5 + 3)\n",
    "\n",
    "accuracy_matrix\n",
    "accuracies"
   ]
  },
  {
   "cell_type": "markdown",
   "id": "6bc633e6-9b53-4877-92d5-77c9192cf050",
   "metadata": {},
   "source": [
    "#### Results\n",
    "\n",
    "The results of our model show that it has around an 83% accuracy. However, from the accuracy matrix produced when comparing the predictions and truths, we notice that the model will almost always predict an observation to not match, and due to the majority of observations not matching, the accuracy remains relatively high. This is due to a class imbalance in the dataset, since most observations do not match, as seen in the table below."
   ]
  },
  {
   "cell_type": "code",
   "execution_count": null,
   "id": "6d3394f5-37ad-4e5c-b7eb-841bda6dfc0d",
   "metadata": {},
   "outputs": [],
   "source": [
    "yes_count <- nrow(filter(speed_dating_tidy, Match == \"yes\"))\n",
    "no_count <- nrow(filter(speed_dating_tidy, Match == \"no\"))\n",
    "\n",
    "tibble(Matched = yes_count, \n",
    "       \"Did Not Match\" = no_count)"
   ]
  },
  {
   "cell_type": "markdown",
   "id": "6352df88-41d0-46a0-ad67-1973ba81980c",
   "metadata": {},
   "source": [
    "To resolve this issue, we will **undersample** the observations that did not match, so our model will equally weight both classes. "
   ]
  },
  {
   "cell_type": "markdown",
   "id": "d23d1ea5-258d-458b-984e-151e547e827e",
   "metadata": {},
   "source": [
    "#### TODO: Undersampling?"
   ]
  },
  {
   "cell_type": "markdown",
   "id": "93c564b9-365f-41be-959a-4b884fad9c17",
   "metadata": {},
   "source": [
    "## Discussion\n",
    "\n",
    "## Summarize what you found\n",
    "\n",
    "This project allows us to see which variables that correspond to the individuals traits that have a strong relation to how a couple get matched in speed dating.\n",
    "\n",
    "## Discuss whether this is what you expected to find?\n",
    "\n",
    "Yes, there are some things that we expected to find. We were expecting variables that are prominent in first impression of a person during speed dating tend to have a stronger relation with how likely the couple get matched than variables that require a deeper understanding of someone.\n",
    "\n",
    "## Discuss what impact could such findings have?\n",
    "\n",
    "The project has a potential to help researchers that focus on human relationship to understand which human characters or traits that determine the success rate couple of getting matched in speed dating. This project could be a helpful tool to identify human nature in speed dating. Moreover, this project also gives contribution in the data science field especially K-NN Regression.\n",
    "\n",
    "## Discuss what future questions could this lead to?\n",
    "\n",
    "\n"
   ]
  },
  {
   "cell_type": "markdown",
   "id": "b95e7ecf-960b-488b-99a4-1965175514b5",
   "metadata": {},
   "source": [
    "## References"
   ]
  },
  {
   "cell_type": "code",
   "execution_count": null,
   "id": "713c2138-4a57-4d89-90b8-3bc1596efdaa",
   "metadata": {},
   "outputs": [],
   "source": []
  }
 ],
 "metadata": {
  "kernelspec": {
   "display_name": "R",
   "language": "R",
   "name": "ir"
  },
  "language_info": {
   "codemirror_mode": "r",
   "file_extension": ".r",
   "mimetype": "text/x-r-source",
   "name": "R",
   "pygments_lexer": "r",
   "version": "4.2.3"
  }
 },
 "nbformat": 4,
 "nbformat_minor": 5
}
